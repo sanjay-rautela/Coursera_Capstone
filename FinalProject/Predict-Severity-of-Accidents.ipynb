{
 "cells": [
  {
   "cell_type": "markdown",
   "metadata": {},
   "source": [
    "# Predict Accidents"
   ]
  },
  {
   "cell_type": "markdown",
   "metadata": {},
   "source": [
    "## Introduction"
   ]
  },
  {
   "cell_type": "markdown",
   "metadata": {},
   "source": [
    "<p>Every year the lives of approximately 1.35 million people are cut short as a result of a road traffic crash. Between 20 and 50 million more people suffer non-fatal injuries, with many incurring a disability as a result of their injury.</p>\n",
    "<p>Road traffic injuries cause considerable economic losses to individuals, their families, and nations. These losses arise from the cost of treatment as well as lost productivity for those killed or disabled by their injuries, and for family members who need to take time off work or school to care for the injured. Road traffic crashes cost most countries 3% of their gross domestic product.</p>\n",
    "<p>Analyzing a significant range of factors, including weather conditions, special events, roadworks, traffic jams among others, an accurate prediction of the severity of the accidents can be performed.</p>\n",
    "<p>These insights could allow law enforcement bodies to allocate their resources more effectively in advance of potential accidents, preventing when and where a severe accident can occur as well as saving both, time and money. In addition, this knowledge of a severe accident situation can be warned to drivers so that they would drive more carefully or even change their route if it is possible or to the hospital which could have set everything ready for a severe intervention in advance.</p>\n",
    "<p>Governments should be highly interested in inaccurate predictions of the severity of an accident, in order to reduce the time of arrival and thus save a significant amount of people each year. Others interested could be private companies investing in technologies aiming to improve road safeness.</p>\n",
    "<h2>Key Facts</h2>\n",
    "<ol>\n",
    "<li>Approximately 1.35 million people die each year as a result of road traffic crashes.</li>\n",
    "<li>The 2030 Agenda for Sustainable Development has set an ambitious target of halving the global number of deaths and injuries from road traffic crashes by 2020.</li>\n",
    "<li>Road traffic crashes cost most countries 3% of their gross domestic product.</li>\n",
    "<li>More than half of all road traffic deaths are among vulnerable road users: pedestrians, cyclists, and motorcyclists.</li>\n",
    "<li>93% of the world's fatalities on the roads occur in low- and middle-income countries, even though these countries have approximately 60% of the world's vehicles.</li>\n",
    "<li>Road traffic injuries are the leading cause of death for children and young adults aged 5-29 years.</li>\n",
    "</ol>\n",
    "<h2>Risk factors</h2>\n",
    "<p>The Safe System approach: accommodating human error The Safe System approach to road safety aims to ensure a safe transport system for all road users. Such an approach considers people&rsquo;s vulnerability to serious injuries in road traffic crashes and recognizes that the system should be designed to be forgiving of human error. The cornerstones of this approach are safe roads and roadsides, safe speeds, safe vehicles, and safe road users, all of which must be addressed in order to eliminate fatal crashes and reduce serious injuries.</p>\n",
    "<ol>\n",
    "<li>Speeding</li>\n",
    "<li>Driving under the influence of alcohol and other psychoactive substances</li>\n",
    "<li>Nonuse of motorcycle helmets, seatbelts, and child restraints</li>\n",
    "<li>Distracted driving</li>\n",
    "<li>Unsafe road infrastructure</li>\n",
    "<li>Unsafe vehicles</li>\n",
    "<li>Inadequate post-crash care</li>\n",
    "<li>Inadequate law enforcement of traffic laws</li>\n",
    "</ol>\n",
    "<h2><strong>Role of Data Science</strong> to address road traffic injuries?</h2>\n",
    "<p>Analyzing a significant range of factors, including weather conditions, special events, roadworks, traffic jams among others, an accurate prediction of the severity of the accidents can be performed.</p>"
   ]
  },
  {
   "cell_type": "markdown",
   "metadata": {},
   "source": [
    "## Data"
   ]
  },
  {
   "cell_type": "markdown",
   "metadata": {},
   "source": [
    "<p>The dataset is taken from <a href=\"https://www.kaggle.com/ahmedlahlou/accidents-in-france-from-2005-to-2016\">Kaggle</a>, and consist of 5 tables:</p>\n",
    "<ol>\n",
    "<li>caracteristics.csv</li>\n",
    "<li>holidays.csv</li>\n",
    "<li>places.csv</li>\n",
    "<li>users.csv</li>\n",
    "<li>vehicles.csv</li>\n",
    "</ol>\n",
    "<p>As we have a large dataset, we have few choices to select our feature which would help us determine or predict the severity of the accident. One of the features which I feel is vital in the dataset is \"grav\", present in the users.csv dataset. This feature represents the severity of the injure of each person involved in the accident. The aim of this project is to&nbsp;predict the severity of the accident, so we will predict the feature \"grav\" from the dataset, considering all the other characteristics of an accident.<br />This feature has four categories of the accident:</p>\n",
    "<ol>\n",
    "<li>Unscathed</li>\n",
    "<li>Killed</li>\n",
    "<li>Hospitalized wounded</li>\n",
    "<li>Light injury</li>\n",
    "</ol>\n",
    "<p>Now we have selected our feature so its time to plan for EDA. We need to consider the transformation of data based on supervised learning with categorical data. To use simpler algorithms the feature can be modified to have only two categories</p>\n",
    "<ol>\n",
    "<li>Light Injury (combine grav type 1 &amp; 4)&nbsp;</li>\n",
    "<li>Serious Injury and Death (combine grav type 2 &amp; 3)&nbsp;</li>\n",
    "</ol>\n",
    "<p>&nbsp;</p>"
   ]
  },
  {
   "cell_type": "markdown",
   "metadata": {},
   "source": [
    "# Import Libraries"
   ]
  },
  {
   "cell_type": "code",
   "execution_count": 220,
   "metadata": {},
   "outputs": [],
   "source": [
    "import numpy as np # linear algebra\n",
    "import pandas as pd # data processing\n",
    "import seaborn as sns # data visualization\n",
    "%matplotlib inline\n",
    "from matplotlib import pyplot as plt # data visualization\n",
    "from matplotlib import style # data visualization"
   ]
  },
  {
   "cell_type": "markdown",
   "metadata": {},
   "source": [
    "# Read Data"
   ]
  },
  {
   "cell_type": "markdown",
   "metadata": {},
   "source": [
    "Here, I am leaving out the \"holidays\" dataset as it may not relevent to predict the severity of the accident. The vehicle dataset contain invalid values in the column which we are most interedted in i.e. \"catv\" which describles the category of vehicle. 1-13 are the valid values but the acutal values range from 1-99.  "
   ]
  },
  {
   "cell_type": "code",
   "execution_count": 221,
   "metadata": {},
   "outputs": [],
   "source": [
    "caracteristics_df = pd.read_csv('data/caracteristics.csv', low_memory = False, encoding = 'latin-1')\n",
    "places_df = pd.read_csv('data/places.csv', low_memory = False)\n",
    "users_df = pd.read_csv('data/users.csv', low_memory = False)"
   ]
  },
  {
   "cell_type": "markdown",
   "metadata": {},
   "source": [
    "Lets perform some analysis on our data to know about its size, type, and content"
   ]
  },
  {
   "cell_type": "code",
   "execution_count": 222,
   "metadata": {},
   "outputs": [
    {
     "data": {
      "text/html": [
       "<div>\n",
       "<style scoped>\n",
       "    .dataframe tbody tr th:only-of-type {\n",
       "        vertical-align: middle;\n",
       "    }\n",
       "\n",
       "    .dataframe tbody tr th {\n",
       "        vertical-align: top;\n",
       "    }\n",
       "\n",
       "    .dataframe thead th {\n",
       "        text-align: right;\n",
       "    }\n",
       "</style>\n",
       "<table border=\"1\" class=\"dataframe\">\n",
       "  <thead>\n",
       "    <tr style=\"text-align: right;\">\n",
       "      <th></th>\n",
       "      <th>Num_Acc</th>\n",
       "      <th>place</th>\n",
       "      <th>catu</th>\n",
       "      <th>grav</th>\n",
       "      <th>sexe</th>\n",
       "      <th>trajet</th>\n",
       "      <th>secu</th>\n",
       "      <th>locp</th>\n",
       "      <th>actp</th>\n",
       "      <th>etatp</th>\n",
       "      <th>an_nais</th>\n",
       "    </tr>\n",
       "  </thead>\n",
       "  <tbody>\n",
       "    <tr>\n",
       "      <th>count</th>\n",
       "      <td>1.876005e+06</td>\n",
       "      <td>1.775639e+06</td>\n",
       "      <td>1.876005e+06</td>\n",
       "      <td>1.876005e+06</td>\n",
       "      <td>1.876005e+06</td>\n",
       "      <td>1.875636e+06</td>\n",
       "      <td>1.832547e+06</td>\n",
       "      <td>1.874341e+06</td>\n",
       "      <td>1.874232e+06</td>\n",
       "      <td>1.874299e+06</td>\n",
       "      <td>1.873654e+06</td>\n",
       "    </tr>\n",
       "    <tr>\n",
       "      <th>mean</th>\n",
       "      <td>2.009992e+11</td>\n",
       "      <td>1.283953e+00</td>\n",
       "      <td>1.341410e+00</td>\n",
       "      <td>2.513080e+00</td>\n",
       "      <td>1.328885e+00</td>\n",
       "      <td>3.075555e+00</td>\n",
       "      <td>1.822304e+01</td>\n",
       "      <td>2.242522e-01</td>\n",
       "      <td>2.762860e-01</td>\n",
       "      <td>1.023823e-01</td>\n",
       "      <td>1.972682e+03</td>\n",
       "    </tr>\n",
       "    <tr>\n",
       "      <th>std</th>\n",
       "      <td>3.464316e+08</td>\n",
       "      <td>9.058402e-01</td>\n",
       "      <td>6.334311e-01</td>\n",
       "      <td>1.332745e+00</td>\n",
       "      <td>4.698081e-01</td>\n",
       "      <td>2.676239e+00</td>\n",
       "      <td>1.977354e+01</td>\n",
       "      <td>8.722973e-01</td>\n",
       "      <td>1.051576e+00</td>\n",
       "      <td>3.800489e-01</td>\n",
       "      <td>1.834448e+01</td>\n",
       "    </tr>\n",
       "    <tr>\n",
       "      <th>min</th>\n",
       "      <td>2.005000e+11</td>\n",
       "      <td>0.000000e+00</td>\n",
       "      <td>1.000000e+00</td>\n",
       "      <td>1.000000e+00</td>\n",
       "      <td>1.000000e+00</td>\n",
       "      <td>0.000000e+00</td>\n",
       "      <td>0.000000e+00</td>\n",
       "      <td>0.000000e+00</td>\n",
       "      <td>0.000000e+00</td>\n",
       "      <td>0.000000e+00</td>\n",
       "      <td>1.896000e+03</td>\n",
       "    </tr>\n",
       "    <tr>\n",
       "      <th>25%</th>\n",
       "      <td>2.007000e+11</td>\n",
       "      <td>1.000000e+00</td>\n",
       "      <td>1.000000e+00</td>\n",
       "      <td>1.000000e+00</td>\n",
       "      <td>1.000000e+00</td>\n",
       "      <td>0.000000e+00</td>\n",
       "      <td>1.100000e+01</td>\n",
       "      <td>0.000000e+00</td>\n",
       "      <td>0.000000e+00</td>\n",
       "      <td>0.000000e+00</td>\n",
       "      <td>1.961000e+03</td>\n",
       "    </tr>\n",
       "    <tr>\n",
       "      <th>50%</th>\n",
       "      <td>2.010000e+11</td>\n",
       "      <td>1.000000e+00</td>\n",
       "      <td>1.000000e+00</td>\n",
       "      <td>3.000000e+00</td>\n",
       "      <td>1.000000e+00</td>\n",
       "      <td>4.000000e+00</td>\n",
       "      <td>1.100000e+01</td>\n",
       "      <td>0.000000e+00</td>\n",
       "      <td>0.000000e+00</td>\n",
       "      <td>0.000000e+00</td>\n",
       "      <td>1.976000e+03</td>\n",
       "    </tr>\n",
       "    <tr>\n",
       "      <th>75%</th>\n",
       "      <td>2.013000e+11</td>\n",
       "      <td>1.000000e+00</td>\n",
       "      <td>2.000000e+00</td>\n",
       "      <td>4.000000e+00</td>\n",
       "      <td>2.000000e+00</td>\n",
       "      <td>5.000000e+00</td>\n",
       "      <td>2.100000e+01</td>\n",
       "      <td>0.000000e+00</td>\n",
       "      <td>0.000000e+00</td>\n",
       "      <td>0.000000e+00</td>\n",
       "      <td>1.987000e+03</td>\n",
       "    </tr>\n",
       "    <tr>\n",
       "      <th>max</th>\n",
       "      <td>2.016001e+11</td>\n",
       "      <td>9.000000e+00</td>\n",
       "      <td>4.000000e+00</td>\n",
       "      <td>4.000000e+00</td>\n",
       "      <td>2.000000e+00</td>\n",
       "      <td>9.000000e+00</td>\n",
       "      <td>9.300000e+01</td>\n",
       "      <td>8.000000e+00</td>\n",
       "      <td>9.000000e+00</td>\n",
       "      <td>3.000000e+00</td>\n",
       "      <td>2.016000e+03</td>\n",
       "    </tr>\n",
       "  </tbody>\n",
       "</table>\n",
       "</div>"
      ],
      "text/plain": [
       "            Num_Acc         place          catu          grav          sexe  \\\n",
       "count  1.876005e+06  1.775639e+06  1.876005e+06  1.876005e+06  1.876005e+06   \n",
       "mean   2.009992e+11  1.283953e+00  1.341410e+00  2.513080e+00  1.328885e+00   \n",
       "std    3.464316e+08  9.058402e-01  6.334311e-01  1.332745e+00  4.698081e-01   \n",
       "min    2.005000e+11  0.000000e+00  1.000000e+00  1.000000e+00  1.000000e+00   \n",
       "25%    2.007000e+11  1.000000e+00  1.000000e+00  1.000000e+00  1.000000e+00   \n",
       "50%    2.010000e+11  1.000000e+00  1.000000e+00  3.000000e+00  1.000000e+00   \n",
       "75%    2.013000e+11  1.000000e+00  2.000000e+00  4.000000e+00  2.000000e+00   \n",
       "max    2.016001e+11  9.000000e+00  4.000000e+00  4.000000e+00  2.000000e+00   \n",
       "\n",
       "             trajet          secu          locp          actp         etatp  \\\n",
       "count  1.875636e+06  1.832547e+06  1.874341e+06  1.874232e+06  1.874299e+06   \n",
       "mean   3.075555e+00  1.822304e+01  2.242522e-01  2.762860e-01  1.023823e-01   \n",
       "std    2.676239e+00  1.977354e+01  8.722973e-01  1.051576e+00  3.800489e-01   \n",
       "min    0.000000e+00  0.000000e+00  0.000000e+00  0.000000e+00  0.000000e+00   \n",
       "25%    0.000000e+00  1.100000e+01  0.000000e+00  0.000000e+00  0.000000e+00   \n",
       "50%    4.000000e+00  1.100000e+01  0.000000e+00  0.000000e+00  0.000000e+00   \n",
       "75%    5.000000e+00  2.100000e+01  0.000000e+00  0.000000e+00  0.000000e+00   \n",
       "max    9.000000e+00  9.300000e+01  8.000000e+00  9.000000e+00  3.000000e+00   \n",
       "\n",
       "            an_nais  \n",
       "count  1.873654e+06  \n",
       "mean   1.972682e+03  \n",
       "std    1.834448e+01  \n",
       "min    1.896000e+03  \n",
       "25%    1.961000e+03  \n",
       "50%    1.976000e+03  \n",
       "75%    1.987000e+03  \n",
       "max    2.016000e+03  "
      ]
     },
     "execution_count": 222,
     "metadata": {},
     "output_type": "execute_result"
    }
   ],
   "source": [
    "users_df.describe()"
   ]
  },
  {
   "cell_type": "code",
   "execution_count": 223,
   "metadata": {},
   "outputs": [
    {
     "data": {
      "text/html": [
       "<div>\n",
       "<style scoped>\n",
       "    .dataframe tbody tr th:only-of-type {\n",
       "        vertical-align: middle;\n",
       "    }\n",
       "\n",
       "    .dataframe tbody tr th {\n",
       "        vertical-align: top;\n",
       "    }\n",
       "\n",
       "    .dataframe thead th {\n",
       "        text-align: right;\n",
       "    }\n",
       "</style>\n",
       "<table border=\"1\" class=\"dataframe\">\n",
       "  <thead>\n",
       "    <tr style=\"text-align: right;\">\n",
       "      <th></th>\n",
       "      <th>Num_Acc</th>\n",
       "      <th>catr</th>\n",
       "      <th>v1</th>\n",
       "      <th>circ</th>\n",
       "      <th>nbv</th>\n",
       "      <th>pr</th>\n",
       "      <th>pr1</th>\n",
       "      <th>vosp</th>\n",
       "      <th>prof</th>\n",
       "      <th>plan</th>\n",
       "      <th>lartpc</th>\n",
       "      <th>larrout</th>\n",
       "      <th>surf</th>\n",
       "      <th>infra</th>\n",
       "      <th>situ</th>\n",
       "      <th>env1</th>\n",
       "    </tr>\n",
       "  </thead>\n",
       "  <tbody>\n",
       "    <tr>\n",
       "      <th>count</th>\n",
       "      <td>8.399850e+05</td>\n",
       "      <td>839984.000000</td>\n",
       "      <td>332816.000000</td>\n",
       "      <td>839187.000000</td>\n",
       "      <td>838195.000000</td>\n",
       "      <td>414770.000000</td>\n",
       "      <td>413463.000000</td>\n",
       "      <td>838345.000000</td>\n",
       "      <td>838924.000000</td>\n",
       "      <td>838909.000000</td>\n",
       "      <td>830440.000000</td>\n",
       "      <td>831706.000000</td>\n",
       "      <td>838968.000000</td>\n",
       "      <td>838707.000000</td>\n",
       "      <td>838983.000000</td>\n",
       "      <td>838709.000000</td>\n",
       "    </tr>\n",
       "    <tr>\n",
       "      <th>mean</th>\n",
       "      <td>2.010011e+11</td>\n",
       "      <td>3.418247</td>\n",
       "      <td>0.068575</td>\n",
       "      <td>1.855246</td>\n",
       "      <td>2.039593</td>\n",
       "      <td>109.701206</td>\n",
       "      <td>276.792763</td>\n",
       "      <td>0.130675</td>\n",
       "      <td>1.135474</td>\n",
       "      <td>1.198732</td>\n",
       "      <td>5.256996</td>\n",
       "      <td>58.389998</td>\n",
       "      <td>1.257012</td>\n",
       "      <td>0.438958</td>\n",
       "      <td>1.147201</td>\n",
       "      <td>37.916588</td>\n",
       "    </tr>\n",
       "    <tr>\n",
       "      <th>std</th>\n",
       "      <td>3.458009e+08</td>\n",
       "      <td>1.207917</td>\n",
       "      <td>0.567640</td>\n",
       "      <td>0.720949</td>\n",
       "      <td>1.550779</td>\n",
       "      <td>499.309309</td>\n",
       "      <td>357.941312</td>\n",
       "      <td>0.555434</td>\n",
       "      <td>0.620295</td>\n",
       "      <td>0.722200</td>\n",
       "      <td>21.801291</td>\n",
       "      <td>62.527755</td>\n",
       "      <td>0.954748</td>\n",
       "      <td>1.350905</td>\n",
       "      <td>0.722495</td>\n",
       "      <td>47.979898</td>\n",
       "    </tr>\n",
       "    <tr>\n",
       "      <th>min</th>\n",
       "      <td>2.005000e+11</td>\n",
       "      <td>1.000000</td>\n",
       "      <td>0.000000</td>\n",
       "      <td>0.000000</td>\n",
       "      <td>0.000000</td>\n",
       "      <td>0.000000</td>\n",
       "      <td>0.000000</td>\n",
       "      <td>0.000000</td>\n",
       "      <td>0.000000</td>\n",
       "      <td>0.000000</td>\n",
       "      <td>0.000000</td>\n",
       "      <td>-81.000000</td>\n",
       "      <td>0.000000</td>\n",
       "      <td>0.000000</td>\n",
       "      <td>0.000000</td>\n",
       "      <td>0.000000</td>\n",
       "    </tr>\n",
       "    <tr>\n",
       "      <th>25%</th>\n",
       "      <td>2.007000e+11</td>\n",
       "      <td>3.000000</td>\n",
       "      <td>0.000000</td>\n",
       "      <td>2.000000</td>\n",
       "      <td>2.000000</td>\n",
       "      <td>0.000000</td>\n",
       "      <td>0.000000</td>\n",
       "      <td>0.000000</td>\n",
       "      <td>1.000000</td>\n",
       "      <td>1.000000</td>\n",
       "      <td>0.000000</td>\n",
       "      <td>0.000000</td>\n",
       "      <td>1.000000</td>\n",
       "      <td>0.000000</td>\n",
       "      <td>1.000000</td>\n",
       "      <td>0.000000</td>\n",
       "    </tr>\n",
       "    <tr>\n",
       "      <th>50%</th>\n",
       "      <td>2.010000e+11</td>\n",
       "      <td>4.000000</td>\n",
       "      <td>0.000000</td>\n",
       "      <td>2.000000</td>\n",
       "      <td>2.000000</td>\n",
       "      <td>6.000000</td>\n",
       "      <td>100.000000</td>\n",
       "      <td>0.000000</td>\n",
       "      <td>1.000000</td>\n",
       "      <td>1.000000</td>\n",
       "      <td>0.000000</td>\n",
       "      <td>60.000000</td>\n",
       "      <td>1.000000</td>\n",
       "      <td>0.000000</td>\n",
       "      <td>1.000000</td>\n",
       "      <td>0.000000</td>\n",
       "    </tr>\n",
       "    <tr>\n",
       "      <th>75%</th>\n",
       "      <td>2.013000e+11</td>\n",
       "      <td>4.000000</td>\n",
       "      <td>0.000000</td>\n",
       "      <td>2.000000</td>\n",
       "      <td>2.000000</td>\n",
       "      <td>28.000000</td>\n",
       "      <td>500.000000</td>\n",
       "      <td>0.000000</td>\n",
       "      <td>1.000000</td>\n",
       "      <td>1.000000</td>\n",
       "      <td>0.000000</td>\n",
       "      <td>80.000000</td>\n",
       "      <td>1.000000</td>\n",
       "      <td>0.000000</td>\n",
       "      <td>1.000000</td>\n",
       "      <td>99.000000</td>\n",
       "    </tr>\n",
       "    <tr>\n",
       "      <th>max</th>\n",
       "      <td>2.016001e+11</td>\n",
       "      <td>9.000000</td>\n",
       "      <td>9.000000</td>\n",
       "      <td>4.000000</td>\n",
       "      <td>99.000000</td>\n",
       "      <td>9900.000000</td>\n",
       "      <td>9540.000000</td>\n",
       "      <td>3.000000</td>\n",
       "      <td>4.000000</td>\n",
       "      <td>4.000000</td>\n",
       "      <td>960.000000</td>\n",
       "      <td>999.000000</td>\n",
       "      <td>9.000000</td>\n",
       "      <td>7.000000</td>\n",
       "      <td>5.000000</td>\n",
       "      <td>99.000000</td>\n",
       "    </tr>\n",
       "  </tbody>\n",
       "</table>\n",
       "</div>"
      ],
      "text/plain": [
       "            Num_Acc           catr             v1           circ  \\\n",
       "count  8.399850e+05  839984.000000  332816.000000  839187.000000   \n",
       "mean   2.010011e+11       3.418247       0.068575       1.855246   \n",
       "std    3.458009e+08       1.207917       0.567640       0.720949   \n",
       "min    2.005000e+11       1.000000       0.000000       0.000000   \n",
       "25%    2.007000e+11       3.000000       0.000000       2.000000   \n",
       "50%    2.010000e+11       4.000000       0.000000       2.000000   \n",
       "75%    2.013000e+11       4.000000       0.000000       2.000000   \n",
       "max    2.016001e+11       9.000000       9.000000       4.000000   \n",
       "\n",
       "                 nbv             pr            pr1           vosp  \\\n",
       "count  838195.000000  414770.000000  413463.000000  838345.000000   \n",
       "mean        2.039593     109.701206     276.792763       0.130675   \n",
       "std         1.550779     499.309309     357.941312       0.555434   \n",
       "min         0.000000       0.000000       0.000000       0.000000   \n",
       "25%         2.000000       0.000000       0.000000       0.000000   \n",
       "50%         2.000000       6.000000     100.000000       0.000000   \n",
       "75%         2.000000      28.000000     500.000000       0.000000   \n",
       "max        99.000000    9900.000000    9540.000000       3.000000   \n",
       "\n",
       "                prof           plan         lartpc        larrout  \\\n",
       "count  838924.000000  838909.000000  830440.000000  831706.000000   \n",
       "mean        1.135474       1.198732       5.256996      58.389998   \n",
       "std         0.620295       0.722200      21.801291      62.527755   \n",
       "min         0.000000       0.000000       0.000000     -81.000000   \n",
       "25%         1.000000       1.000000       0.000000       0.000000   \n",
       "50%         1.000000       1.000000       0.000000      60.000000   \n",
       "75%         1.000000       1.000000       0.000000      80.000000   \n",
       "max         4.000000       4.000000     960.000000     999.000000   \n",
       "\n",
       "                surf          infra           situ           env1  \n",
       "count  838968.000000  838707.000000  838983.000000  838709.000000  \n",
       "mean        1.257012       0.438958       1.147201      37.916588  \n",
       "std         0.954748       1.350905       0.722495      47.979898  \n",
       "min         0.000000       0.000000       0.000000       0.000000  \n",
       "25%         1.000000       0.000000       1.000000       0.000000  \n",
       "50%         1.000000       0.000000       1.000000       0.000000  \n",
       "75%         1.000000       0.000000       1.000000      99.000000  \n",
       "max         9.000000       7.000000       5.000000      99.000000  "
      ]
     },
     "execution_count": 223,
     "metadata": {},
     "output_type": "execute_result"
    }
   ],
   "source": [
    "places_df.describe()"
   ]
  },
  {
   "cell_type": "code",
   "execution_count": 224,
   "metadata": {},
   "outputs": [
    {
     "data": {
      "text/html": [
       "<div>\n",
       "<style scoped>\n",
       "    .dataframe tbody tr th:only-of-type {\n",
       "        vertical-align: middle;\n",
       "    }\n",
       "\n",
       "    .dataframe tbody tr th {\n",
       "        vertical-align: top;\n",
       "    }\n",
       "\n",
       "    .dataframe thead th {\n",
       "        text-align: right;\n",
       "    }\n",
       "</style>\n",
       "<table border=\"1\" class=\"dataframe\">\n",
       "  <thead>\n",
       "    <tr style=\"text-align: right;\">\n",
       "      <th></th>\n",
       "      <th>Num_Acc</th>\n",
       "      <th>an</th>\n",
       "      <th>mois</th>\n",
       "      <th>jour</th>\n",
       "      <th>hrmn</th>\n",
       "      <th>lum</th>\n",
       "      <th>agg</th>\n",
       "      <th>int</th>\n",
       "      <th>atm</th>\n",
       "      <th>col</th>\n",
       "      <th>com</th>\n",
       "      <th>lat</th>\n",
       "      <th>dep</th>\n",
       "    </tr>\n",
       "  </thead>\n",
       "  <tbody>\n",
       "    <tr>\n",
       "      <th>count</th>\n",
       "      <td>8.399850e+05</td>\n",
       "      <td>839985.000000</td>\n",
       "      <td>839985.000000</td>\n",
       "      <td>839985.000000</td>\n",
       "      <td>839985.000000</td>\n",
       "      <td>839985.000000</td>\n",
       "      <td>839985.000000</td>\n",
       "      <td>839985.000000</td>\n",
       "      <td>839930.000000</td>\n",
       "      <td>839974.000000</td>\n",
       "      <td>839983.000000</td>\n",
       "      <td>3.624710e+05</td>\n",
       "      <td>839985.000000</td>\n",
       "    </tr>\n",
       "    <tr>\n",
       "      <th>mean</th>\n",
       "      <td>2.010011e+11</td>\n",
       "      <td>10.011129</td>\n",
       "      <td>6.679437</td>\n",
       "      <td>15.594687</td>\n",
       "      <td>1381.093505</td>\n",
       "      <td>1.912588</td>\n",
       "      <td>1.685924</td>\n",
       "      <td>1.694066</td>\n",
       "      <td>1.547116</td>\n",
       "      <td>4.187484</td>\n",
       "      <td>186.510172</td>\n",
       "      <td>2.849715e+06</td>\n",
       "      <td>564.257671</td>\n",
       "    </tr>\n",
       "    <tr>\n",
       "      <th>std</th>\n",
       "      <td>3.458009e+08</td>\n",
       "      <td>3.458059</td>\n",
       "      <td>3.389489</td>\n",
       "      <td>8.750201</td>\n",
       "      <td>540.757462</td>\n",
       "      <td>1.517900</td>\n",
       "      <td>0.464147</td>\n",
       "      <td>1.510792</td>\n",
       "      <td>1.587668</td>\n",
       "      <td>1.974998</td>\n",
       "      <td>171.873105</td>\n",
       "      <td>2.284591e+06</td>\n",
       "      <td>291.153083</td>\n",
       "    </tr>\n",
       "    <tr>\n",
       "      <th>min</th>\n",
       "      <td>2.005000e+11</td>\n",
       "      <td>5.000000</td>\n",
       "      <td>1.000000</td>\n",
       "      <td>1.000000</td>\n",
       "      <td>1.000000</td>\n",
       "      <td>1.000000</td>\n",
       "      <td>1.000000</td>\n",
       "      <td>0.000000</td>\n",
       "      <td>1.000000</td>\n",
       "      <td>1.000000</td>\n",
       "      <td>0.000000</td>\n",
       "      <td>0.000000e+00</td>\n",
       "      <td>10.000000</td>\n",
       "    </tr>\n",
       "    <tr>\n",
       "      <th>25%</th>\n",
       "      <td>2.007000e+11</td>\n",
       "      <td>7.000000</td>\n",
       "      <td>4.000000</td>\n",
       "      <td>8.000000</td>\n",
       "      <td>1000.000000</td>\n",
       "      <td>1.000000</td>\n",
       "      <td>1.000000</td>\n",
       "      <td>1.000000</td>\n",
       "      <td>1.000000</td>\n",
       "      <td>3.000000</td>\n",
       "      <td>55.000000</td>\n",
       "      <td>0.000000e+00</td>\n",
       "      <td>310.000000</td>\n",
       "    </tr>\n",
       "    <tr>\n",
       "      <th>50%</th>\n",
       "      <td>2.010000e+11</td>\n",
       "      <td>10.000000</td>\n",
       "      <td>7.000000</td>\n",
       "      <td>15.000000</td>\n",
       "      <td>1446.000000</td>\n",
       "      <td>1.000000</td>\n",
       "      <td>2.000000</td>\n",
       "      <td>1.000000</td>\n",
       "      <td>1.000000</td>\n",
       "      <td>3.000000</td>\n",
       "      <td>118.000000</td>\n",
       "      <td>4.370200e+06</td>\n",
       "      <td>630.000000</td>\n",
       "    </tr>\n",
       "    <tr>\n",
       "      <th>75%</th>\n",
       "      <td>2.013000e+11</td>\n",
       "      <td>13.000000</td>\n",
       "      <td>10.000000</td>\n",
       "      <td>23.000000</td>\n",
       "      <td>1810.000000</td>\n",
       "      <td>3.000000</td>\n",
       "      <td>2.000000</td>\n",
       "      <td>2.000000</td>\n",
       "      <td>1.000000</td>\n",
       "      <td>6.000000</td>\n",
       "      <td>278.000000</td>\n",
       "      <td>4.799218e+06</td>\n",
       "      <td>780.000000</td>\n",
       "    </tr>\n",
       "    <tr>\n",
       "      <th>max</th>\n",
       "      <td>2.016001e+11</td>\n",
       "      <td>16.000000</td>\n",
       "      <td>12.000000</td>\n",
       "      <td>31.000000</td>\n",
       "      <td>2359.000000</td>\n",
       "      <td>5.000000</td>\n",
       "      <td>2.000000</td>\n",
       "      <td>9.000000</td>\n",
       "      <td>9.000000</td>\n",
       "      <td>7.000000</td>\n",
       "      <td>987.000000</td>\n",
       "      <td>5.564823e+06</td>\n",
       "      <td>976.000000</td>\n",
       "    </tr>\n",
       "  </tbody>\n",
       "</table>\n",
       "</div>"
      ],
      "text/plain": [
       "            Num_Acc             an           mois           jour  \\\n",
       "count  8.399850e+05  839985.000000  839985.000000  839985.000000   \n",
       "mean   2.010011e+11      10.011129       6.679437      15.594687   \n",
       "std    3.458009e+08       3.458059       3.389489       8.750201   \n",
       "min    2.005000e+11       5.000000       1.000000       1.000000   \n",
       "25%    2.007000e+11       7.000000       4.000000       8.000000   \n",
       "50%    2.010000e+11      10.000000       7.000000      15.000000   \n",
       "75%    2.013000e+11      13.000000      10.000000      23.000000   \n",
       "max    2.016001e+11      16.000000      12.000000      31.000000   \n",
       "\n",
       "                hrmn            lum            agg            int  \\\n",
       "count  839985.000000  839985.000000  839985.000000  839985.000000   \n",
       "mean     1381.093505       1.912588       1.685924       1.694066   \n",
       "std       540.757462       1.517900       0.464147       1.510792   \n",
       "min         1.000000       1.000000       1.000000       0.000000   \n",
       "25%      1000.000000       1.000000       1.000000       1.000000   \n",
       "50%      1446.000000       1.000000       2.000000       1.000000   \n",
       "75%      1810.000000       3.000000       2.000000       2.000000   \n",
       "max      2359.000000       5.000000       2.000000       9.000000   \n",
       "\n",
       "                 atm            col            com           lat  \\\n",
       "count  839930.000000  839974.000000  839983.000000  3.624710e+05   \n",
       "mean        1.547116       4.187484     186.510172  2.849715e+06   \n",
       "std         1.587668       1.974998     171.873105  2.284591e+06   \n",
       "min         1.000000       1.000000       0.000000  0.000000e+00   \n",
       "25%         1.000000       3.000000      55.000000  0.000000e+00   \n",
       "50%         1.000000       3.000000     118.000000  4.370200e+06   \n",
       "75%         1.000000       6.000000     278.000000  4.799218e+06   \n",
       "max         9.000000       7.000000     987.000000  5.564823e+06   \n",
       "\n",
       "                 dep  \n",
       "count  839985.000000  \n",
       "mean      564.257671  \n",
       "std       291.153083  \n",
       "min        10.000000  \n",
       "25%       310.000000  \n",
       "50%       630.000000  \n",
       "75%       780.000000  \n",
       "max       976.000000  "
      ]
     },
     "execution_count": 224,
     "metadata": {},
     "output_type": "execute_result"
    }
   ],
   "source": [
    "caracteristics_df.describe()"
   ]
  },
  {
   "cell_type": "code",
   "execution_count": 225,
   "metadata": {},
   "outputs": [
    {
     "name": "stdout",
     "output_type": "stream",
     "text": [
      "Characteristics:  839985\n",
      "Places:  839985\n",
      "User:  1876005\n"
     ]
    }
   ],
   "source": [
    "print(\"Characteristics: \", caracteristics_df[\"Num_Acc\"].count())\n",
    "print(\"Places: \", places_df[\"Num_Acc\"].count())\n",
    "print(\"User: \", users_df[\"Num_Acc\"].count())\n"
   ]
  },
  {
   "cell_type": "raw",
   "metadata": {},
   "source": [
    "We need to merge all 3 data sets but the number of rows are not same in user as compared to other datasets. We need to group this dataset based on \"Num_Acc\". This feature is attached to all the people involved in the accident. So it can be used to reduce the number of rows from dataset."
   ]
  },
  {
   "cell_type": "markdown",
   "metadata": {},
   "source": [
    "### Remark\n",
    "\n",
    "I know that usually, it is better to split between the Train and the Test set before doing the preprocessing, in order not to bias the model with information from the Test data.\n",
    "\n",
    "But here, the only preprocessing that I am applying to the data is filling missing values, cleaning outliers, and calculations to format the data. No information relative to the data is used so the model will not be biased."
   ]
  },
  {
   "cell_type": "markdown",
   "metadata": {},
   "source": [
    "# Preprocessing"
   ]
  },
  {
   "cell_type": "markdown",
   "metadata": {},
   "source": [
    "Before starting to run any ML algorithm on the data, we have to go through the preprocessing part.\n",
    "In this part, we will keep only interesting features, and then clean the data so there is no missing or unusual value. The goal is that our data is the best possible before applying the algorithm.\n",
    "\n",
    "We will do the first part of the preprocessing separately for each dataset."
   ]
  },
  {
   "cell_type": "markdown",
   "metadata": {},
   "source": [
    "As detailled in the report, my goal is to build a model that could be used in the future to help emergency services be more efficient for road accident. Thus, I want to keep only features that could be used as input data known by this services to predict the severity of the accident.\n",
    "\n",
    "It means that the features kept are only the information known thanks to the description of the accident given when calling emergency or other information that can be infered from this."
   ]
  },
  {
   "cell_type": "markdown",
   "metadata": {},
   "source": [
    "## Processing of user dataset"
   ]
  },
  {
   "cell_type": "code",
   "execution_count": 226,
   "metadata": {},
   "outputs": [
    {
     "data": {
      "text/plain": [
       "Index(['Num_Acc', 'place', 'catu', 'grav', 'sexe', 'trajet', 'secu', 'locp',\n",
       "       'actp', 'etatp', 'an_nais', 'num_veh'],\n",
       "      dtype='object')"
      ]
     },
     "execution_count": 226,
     "metadata": {},
     "output_type": "execute_result"
    }
   ],
   "source": [
    "users_df.columns"
   ]
  },
  {
   "cell_type": "markdown",
   "metadata": {},
   "source": [
    "The columns in user datasets are not much relevent so we can remove all the columns except \"grav\" which is our target column."
   ]
  },
  {
   "cell_type": "code",
   "execution_count": 227,
   "metadata": {},
   "outputs": [
    {
     "data": {
      "text/html": [
       "<div>\n",
       "<style scoped>\n",
       "    .dataframe tbody tr th:only-of-type {\n",
       "        vertical-align: middle;\n",
       "    }\n",
       "\n",
       "    .dataframe tbody tr th {\n",
       "        vertical-align: top;\n",
       "    }\n",
       "\n",
       "    .dataframe thead th {\n",
       "        text-align: right;\n",
       "    }\n",
       "</style>\n",
       "<table border=\"1\" class=\"dataframe\">\n",
       "  <thead>\n",
       "    <tr style=\"text-align: right;\">\n",
       "      <th></th>\n",
       "      <th>Num_Acc</th>\n",
       "      <th>grav</th>\n",
       "    </tr>\n",
       "  </thead>\n",
       "  <tbody>\n",
       "    <tr>\n",
       "      <th>0</th>\n",
       "      <td>201600000001</td>\n",
       "      <td>1</td>\n",
       "    </tr>\n",
       "    <tr>\n",
       "      <th>1</th>\n",
       "      <td>201600000001</td>\n",
       "      <td>3</td>\n",
       "    </tr>\n",
       "    <tr>\n",
       "      <th>2</th>\n",
       "      <td>201600000002</td>\n",
       "      <td>3</td>\n",
       "    </tr>\n",
       "    <tr>\n",
       "      <th>3</th>\n",
       "      <td>201600000002</td>\n",
       "      <td>3</td>\n",
       "    </tr>\n",
       "    <tr>\n",
       "      <th>4</th>\n",
       "      <td>201600000002</td>\n",
       "      <td>3</td>\n",
       "    </tr>\n",
       "  </tbody>\n",
       "</table>\n",
       "</div>"
      ],
      "text/plain": [
       "        Num_Acc  grav\n",
       "0  201600000001     1\n",
       "1  201600000001     3\n",
       "2  201600000002     3\n",
       "3  201600000002     3\n",
       "4  201600000002     3"
      ]
     },
     "execution_count": 227,
     "metadata": {},
     "output_type": "execute_result"
    }
   ],
   "source": [
    "users_df = users_df.drop(['place', 'catu', 'sexe', 'trajet', 'secu', 'locp', 'actp', 'etatp', 'an_nais', 'num_veh'], axis=1)\n",
    "users_df.head()"
   ]
  },
  {
   "cell_type": "markdown",
   "metadata": {},
   "source": [
    "<p>&nbsp;</p>\n",
    "<p>As mentioned in the <strong>Data section</strong> we will transform the \"grav\" features to binary data by merging category 1 and 4, similarly merge category 2 and 3.</p>\n",
    "<table style=\"float: left;\" border=\"10\" width=\"221\">\n",
    "<tbody>\n",
    "<tr>\n",
    "<td width=\"93\">Unscathed</td>\n",
    "<td rowspan=\"2\" width=\"64\">0</td>\n",
    "<td rowspan=\"2\" width=\"64\">Light</td>\n",
    "</tr>\n",
    "<tr>\n",
    "<td>Light injury</td>\n",
    "</tr>\n",
    "<tr>\n",
    "<td>Killed</td>\n",
    "<td rowspan=\"2\">1</td>\n",
    "<td rowspan=\"2\">Severe</td>\n",
    "</tr>\n",
    "<tr>\n",
    "<td>Serious Injury</td>\n",
    "</tr>\n",
    "</tbody>\n",
    "</table>\n",
    "<p>&nbsp;</p>"
   ]
  },
  {
   "cell_type": "code",
   "execution_count": 228,
   "metadata": {},
   "outputs": [
    {
     "data": {
      "text/plain": [
       "<matplotlib.axes._subplots.AxesSubplot at 0x23d8226e550>"
      ]
     },
     "execution_count": 228,
     "metadata": {},
     "output_type": "execute_result"
    },
    {
     "data": {
      "image/png": "[encoded data removed]",
      "text/plain": [
       "<Figure size 432x288 with 1 Axes>"
      ]
     },
     "metadata": {
      "needs_background": "light"
     },
     "output_type": "display_data"
    }
   ],
   "source": [
    "users_df.grav.hist()"
   ]
  },
  {
   "cell_type": "code",
   "execution_count": 229,
   "metadata": {},
   "outputs": [
    {
     "data": {
      "text/plain": [
       "<matplotlib.axes._subplots.AxesSubplot at 0x23da11fbcd0>"
      ]
     },
     "execution_count": 229,
     "metadata": {},
     "output_type": "execute_result"
    },
    {
     "data": {
      "image/png": "[encoded data removed]",
      "text/plain": [
       "<Figure size 432x288 with 1 Axes>"
      ]
     },
     "metadata": {
      "needs_background": "light"
     },
     "output_type": "display_data"
    }
   ],
   "source": [
    "users_df = users_df.replace(1,0)\n",
    "users_df = users_df.replace(3,1)\n",
    "users_df = users_df.replace(4,0)\n",
    "users_df = users_df.replace(2,1)\n",
    "\n",
    "users_df.grav.hist()"
   ]
  },
  {
   "cell_type": "markdown",
   "metadata": {},
   "source": [
    "We will merge the rows based on \"Num_Acc\" feature because for one accident there could be number of users involved in it. As our aim is to tell the severity of the accident, we will consider the maximum gravity of accident and keep it and ignore the other ones. "
   ]
  },
  {
   "cell_type": "code",
   "execution_count": 230,
   "metadata": {},
   "outputs": [
    {
     "data": {
      "text/plain": [
       "<matplotlib.axes._subplots.AxesSubplot at 0x23d81cead30>"
      ]
     },
     "execution_count": 230,
     "metadata": {},
     "output_type": "execute_result"
    },
    {
     "data": {
      "image/png": "[encoded data removed]",
      "text/plain": [
       "<Figure size 432x288 with 1 Axes>"
      ]
     },
     "metadata": {
      "needs_background": "light"
     },
     "output_type": "display_data"
    }
   ],
   "source": [
    "users_df = users_df.groupby(['Num_Acc'], as_index=False).max()\n",
    "\n",
    "users_df.grav.hist()"
   ]
  },
  {
   "cell_type": "markdown",
   "metadata": {},
   "source": [
    "Now we see that there is 839985 instances in the database, the same number as in the others"
   ]
  },
  {
   "cell_type": "code",
   "execution_count": 231,
   "metadata": {},
   "outputs": [
    {
     "data": {
      "text/plain": [
       "Num_Acc    839985\n",
       "grav       839985\n",
       "dtype: int64"
      ]
     },
     "execution_count": 231,
     "metadata": {},
     "output_type": "execute_result"
    }
   ],
   "source": [
    "users_df.count()"
   ]
  },
  {
   "cell_type": "code",
   "execution_count": 232,
   "metadata": {},
   "outputs": [
    {
     "data": {
      "text/html": [
       "<div>\n",
       "<style scoped>\n",
       "    .dataframe tbody tr th:only-of-type {\n",
       "        vertical-align: middle;\n",
       "    }\n",
       "\n",
       "    .dataframe tbody tr th {\n",
       "        vertical-align: top;\n",
       "    }\n",
       "\n",
       "    .dataframe thead th {\n",
       "        text-align: right;\n",
       "    }\n",
       "</style>\n",
       "<table border=\"1\" class=\"dataframe\">\n",
       "  <thead>\n",
       "    <tr style=\"text-align: right;\">\n",
       "      <th></th>\n",
       "      <th>Num_Acc</th>\n",
       "      <th>grav</th>\n",
       "    </tr>\n",
       "  </thead>\n",
       "  <tbody>\n",
       "    <tr>\n",
       "      <th>0</th>\n",
       "      <td>200500000001</td>\n",
       "      <td>1</td>\n",
       "    </tr>\n",
       "    <tr>\n",
       "      <th>1</th>\n",
       "      <td>200500000002</td>\n",
       "      <td>1</td>\n",
       "    </tr>\n",
       "    <tr>\n",
       "      <th>2</th>\n",
       "      <td>200500000003</td>\n",
       "      <td>1</td>\n",
       "    </tr>\n",
       "    <tr>\n",
       "      <th>3</th>\n",
       "      <td>200500000004</td>\n",
       "      <td>1</td>\n",
       "    </tr>\n",
       "    <tr>\n",
       "      <th>4</th>\n",
       "      <td>200500000005</td>\n",
       "      <td>1</td>\n",
       "    </tr>\n",
       "    <tr>\n",
       "      <th>5</th>\n",
       "      <td>200500000006</td>\n",
       "      <td>1</td>\n",
       "    </tr>\n",
       "    <tr>\n",
       "      <th>6</th>\n",
       "      <td>200500000007</td>\n",
       "      <td>0</td>\n",
       "    </tr>\n",
       "    <tr>\n",
       "      <th>7</th>\n",
       "      <td>200500000008</td>\n",
       "      <td>1</td>\n",
       "    </tr>\n",
       "    <tr>\n",
       "      <th>8</th>\n",
       "      <td>200500000009</td>\n",
       "      <td>1</td>\n",
       "    </tr>\n",
       "    <tr>\n",
       "      <th>9</th>\n",
       "      <td>200500000010</td>\n",
       "      <td>1</td>\n",
       "    </tr>\n",
       "    <tr>\n",
       "      <th>10</th>\n",
       "      <td>200500000011</td>\n",
       "      <td>0</td>\n",
       "    </tr>\n",
       "    <tr>\n",
       "      <th>11</th>\n",
       "      <td>200500000012</td>\n",
       "      <td>0</td>\n",
       "    </tr>\n",
       "    <tr>\n",
       "      <th>12</th>\n",
       "      <td>200500000013</td>\n",
       "      <td>0</td>\n",
       "    </tr>\n",
       "    <tr>\n",
       "      <th>13</th>\n",
       "      <td>200500000014</td>\n",
       "      <td>1</td>\n",
       "    </tr>\n",
       "    <tr>\n",
       "      <th>14</th>\n",
       "      <td>200500000015</td>\n",
       "      <td>1</td>\n",
       "    </tr>\n",
       "  </tbody>\n",
       "</table>\n",
       "</div>"
      ],
      "text/plain": [
       "         Num_Acc  grav\n",
       "0   200500000001     1\n",
       "1   200500000002     1\n",
       "2   200500000003     1\n",
       "3   200500000004     1\n",
       "4   200500000005     1\n",
       "5   200500000006     1\n",
       "6   200500000007     0\n",
       "7   200500000008     1\n",
       "8   200500000009     1\n",
       "9   200500000010     1\n",
       "10  200500000011     0\n",
       "11  200500000012     0\n",
       "12  200500000013     0\n",
       "13  200500000014     1\n",
       "14  200500000015     1"
      ]
     },
     "execution_count": 232,
     "metadata": {},
     "output_type": "execute_result"
    }
   ],
   "source": [
    "users_df.head(15)"
   ]
  },
  {
   "cell_type": "markdown",
   "metadata": {},
   "source": [
    "## Processing of places dataset"
   ]
  },
  {
   "cell_type": "code",
   "execution_count": 233,
   "metadata": {},
   "outputs": [
    {
     "data": {
      "text/html": [
       "<div>\n",
       "<style scoped>\n",
       "    .dataframe tbody tr th:only-of-type {\n",
       "        vertical-align: middle;\n",
       "    }\n",
       "\n",
       "    .dataframe tbody tr th {\n",
       "        vertical-align: top;\n",
       "    }\n",
       "\n",
       "    .dataframe thead th {\n",
       "        text-align: right;\n",
       "    }\n",
       "</style>\n",
       "<table border=\"1\" class=\"dataframe\">\n",
       "  <thead>\n",
       "    <tr style=\"text-align: right;\">\n",
       "      <th></th>\n",
       "      <th>Num_Acc</th>\n",
       "      <th>catr</th>\n",
       "      <th>v1</th>\n",
       "      <th>circ</th>\n",
       "      <th>nbv</th>\n",
       "      <th>pr</th>\n",
       "      <th>pr1</th>\n",
       "      <th>vosp</th>\n",
       "      <th>prof</th>\n",
       "      <th>plan</th>\n",
       "      <th>lartpc</th>\n",
       "      <th>larrout</th>\n",
       "      <th>surf</th>\n",
       "      <th>infra</th>\n",
       "      <th>situ</th>\n",
       "      <th>env1</th>\n",
       "    </tr>\n",
       "  </thead>\n",
       "  <tbody>\n",
       "    <tr>\n",
       "      <th>count</th>\n",
       "      <td>8.399850e+05</td>\n",
       "      <td>839984.000000</td>\n",
       "      <td>332816.000000</td>\n",
       "      <td>839187.000000</td>\n",
       "      <td>838195.000000</td>\n",
       "      <td>414770.000000</td>\n",
       "      <td>413463.000000</td>\n",
       "      <td>838345.000000</td>\n",
       "      <td>838924.000000</td>\n",
       "      <td>838909.000000</td>\n",
       "      <td>830440.000000</td>\n",
       "      <td>831706.000000</td>\n",
       "      <td>838968.000000</td>\n",
       "      <td>838707.000000</td>\n",
       "      <td>838983.000000</td>\n",
       "      <td>838709.000000</td>\n",
       "    </tr>\n",
       "    <tr>\n",
       "      <th>mean</th>\n",
       "      <td>2.010011e+11</td>\n",
       "      <td>3.418247</td>\n",
       "      <td>0.068575</td>\n",
       "      <td>1.855246</td>\n",
       "      <td>2.039593</td>\n",
       "      <td>109.701206</td>\n",
       "      <td>276.792763</td>\n",
       "      <td>0.130675</td>\n",
       "      <td>1.135474</td>\n",
       "      <td>1.198732</td>\n",
       "      <td>5.256996</td>\n",
       "      <td>58.389998</td>\n",
       "      <td>1.257012</td>\n",
       "      <td>0.438958</td>\n",
       "      <td>1.147201</td>\n",
       "      <td>37.916588</td>\n",
       "    </tr>\n",
       "    <tr>\n",
       "      <th>std</th>\n",
       "      <td>3.458009e+08</td>\n",
       "      <td>1.207917</td>\n",
       "      <td>0.567640</td>\n",
       "      <td>0.720949</td>\n",
       "      <td>1.550779</td>\n",
       "      <td>499.309309</td>\n",
       "      <td>357.941312</td>\n",
       "      <td>0.555434</td>\n",
       "      <td>0.620295</td>\n",
       "      <td>0.722200</td>\n",
       "      <td>21.801291</td>\n",
       "      <td>62.527755</td>\n",
       "      <td>0.954748</td>\n",
       "      <td>1.350905</td>\n",
       "      <td>0.722495</td>\n",
       "      <td>47.979898</td>\n",
       "    </tr>\n",
       "    <tr>\n",
       "      <th>min</th>\n",
       "      <td>2.005000e+11</td>\n",
       "      <td>1.000000</td>\n",
       "      <td>0.000000</td>\n",
       "      <td>0.000000</td>\n",
       "      <td>0.000000</td>\n",
       "      <td>0.000000</td>\n",
       "      <td>0.000000</td>\n",
       "      <td>0.000000</td>\n",
       "      <td>0.000000</td>\n",
       "      <td>0.000000</td>\n",
       "      <td>0.000000</td>\n",
       "      <td>-81.000000</td>\n",
       "      <td>0.000000</td>\n",
       "      <td>0.000000</td>\n",
       "      <td>0.000000</td>\n",
       "      <td>0.000000</td>\n",
       "    </tr>\n",
       "    <tr>\n",
       "      <th>25%</th>\n",
       "      <td>2.007000e+11</td>\n",
       "      <td>3.000000</td>\n",
       "      <td>0.000000</td>\n",
       "      <td>2.000000</td>\n",
       "      <td>2.000000</td>\n",
       "      <td>0.000000</td>\n",
       "      <td>0.000000</td>\n",
       "      <td>0.000000</td>\n",
       "      <td>1.000000</td>\n",
       "      <td>1.000000</td>\n",
       "      <td>0.000000</td>\n",
       "      <td>0.000000</td>\n",
       "      <td>1.000000</td>\n",
       "      <td>0.000000</td>\n",
       "      <td>1.000000</td>\n",
       "      <td>0.000000</td>\n",
       "    </tr>\n",
       "    <tr>\n",
       "      <th>50%</th>\n",
       "      <td>2.010000e+11</td>\n",
       "      <td>4.000000</td>\n",
       "      <td>0.000000</td>\n",
       "      <td>2.000000</td>\n",
       "      <td>2.000000</td>\n",
       "      <td>6.000000</td>\n",
       "      <td>100.000000</td>\n",
       "      <td>0.000000</td>\n",
       "      <td>1.000000</td>\n",
       "      <td>1.000000</td>\n",
       "      <td>0.000000</td>\n",
       "      <td>60.000000</td>\n",
       "      <td>1.000000</td>\n",
       "      <td>0.000000</td>\n",
       "      <td>1.000000</td>\n",
       "      <td>0.000000</td>\n",
       "    </tr>\n",
       "    <tr>\n",
       "      <th>75%</th>\n",
       "      <td>2.013000e+11</td>\n",
       "      <td>4.000000</td>\n",
       "      <td>0.000000</td>\n",
       "      <td>2.000000</td>\n",
       "      <td>2.000000</td>\n",
       "      <td>28.000000</td>\n",
       "      <td>500.000000</td>\n",
       "      <td>0.000000</td>\n",
       "      <td>1.000000</td>\n",
       "      <td>1.000000</td>\n",
       "      <td>0.000000</td>\n",
       "      <td>80.000000</td>\n",
       "      <td>1.000000</td>\n",
       "      <td>0.000000</td>\n",
       "      <td>1.000000</td>\n",
       "      <td>99.000000</td>\n",
       "    </tr>\n",
       "    <tr>\n",
       "      <th>max</th>\n",
       "      <td>2.016001e+11</td>\n",
       "      <td>9.000000</td>\n",
       "      <td>9.000000</td>\n",
       "      <td>4.000000</td>\n",
       "      <td>99.000000</td>\n",
       "      <td>9900.000000</td>\n",
       "      <td>9540.000000</td>\n",
       "      <td>3.000000</td>\n",
       "      <td>4.000000</td>\n",
       "      <td>4.000000</td>\n",
       "      <td>960.000000</td>\n",
       "      <td>999.000000</td>\n",
       "      <td>9.000000</td>\n",
       "      <td>7.000000</td>\n",
       "      <td>5.000000</td>\n",
       "      <td>99.000000</td>\n",
       "    </tr>\n",
       "  </tbody>\n",
       "</table>\n",
       "</div>"
      ],
      "text/plain": [
       "            Num_Acc           catr             v1           circ  \\\n",
       "count  8.399850e+05  839984.000000  332816.000000  839187.000000   \n",
       "mean   2.010011e+11       3.418247       0.068575       1.855246   \n",
       "std    3.458009e+08       1.207917       0.567640       0.720949   \n",
       "min    2.005000e+11       1.000000       0.000000       0.000000   \n",
       "25%    2.007000e+11       3.000000       0.000000       2.000000   \n",
       "50%    2.010000e+11       4.000000       0.000000       2.000000   \n",
       "75%    2.013000e+11       4.000000       0.000000       2.000000   \n",
       "max    2.016001e+11       9.000000       9.000000       4.000000   \n",
       "\n",
       "                 nbv             pr            pr1           vosp  \\\n",
       "count  838195.000000  414770.000000  413463.000000  838345.000000   \n",
       "mean        2.039593     109.701206     276.792763       0.130675   \n",
       "std         1.550779     499.309309     357.941312       0.555434   \n",
       "min         0.000000       0.000000       0.000000       0.000000   \n",
       "25%         2.000000       0.000000       0.000000       0.000000   \n",
       "50%         2.000000       6.000000     100.000000       0.000000   \n",
       "75%         2.000000      28.000000     500.000000       0.000000   \n",
       "max        99.000000    9900.000000    9540.000000       3.000000   \n",
       "\n",
       "                prof           plan         lartpc        larrout  \\\n",
       "count  838924.000000  838909.000000  830440.000000  831706.000000   \n",
       "mean        1.135474       1.198732       5.256996      58.389998   \n",
       "std         0.620295       0.722200      21.801291      62.527755   \n",
       "min         0.000000       0.000000       0.000000     -81.000000   \n",
       "25%         1.000000       1.000000       0.000000       0.000000   \n",
       "50%         1.000000       1.000000       0.000000      60.000000   \n",
       "75%         1.000000       1.000000       0.000000      80.000000   \n",
       "max         4.000000       4.000000     960.000000     999.000000   \n",
       "\n",
       "                surf          infra           situ           env1  \n",
       "count  838968.000000  838707.000000  838983.000000  838709.000000  \n",
       "mean        1.257012       0.438958       1.147201      37.916588  \n",
       "std         0.954748       1.350905       0.722495      47.979898  \n",
       "min         0.000000       0.000000       0.000000       0.000000  \n",
       "25%         1.000000       0.000000       1.000000       0.000000  \n",
       "50%         1.000000       0.000000       1.000000       0.000000  \n",
       "75%         1.000000       0.000000       1.000000      99.000000  \n",
       "max         9.000000       7.000000       5.000000      99.000000  "
      ]
     },
     "execution_count": 233,
     "metadata": {},
     "output_type": "execute_result"
    }
   ],
   "source": [
    "places_df.describe()"
   ]
  },
  {
   "cell_type": "markdown",
   "metadata": {},
   "source": [
    "In this dataset, we will keep only the features: \"road categorie\", \"traffic regime\", \"number of traffic lanes\", \"surface condition\", and \"infrastructure\"\n",
    "\n",
    "These are the only ones that seem relevant in the context of the model and its future usage.\n",
    "In the \"infra\" feature, almost 90% of the data is equal to 0. The missing values are too important so we will drop the entire column."
   ]
  },
  {
   "cell_type": "code",
   "execution_count": 234,
   "metadata": {},
   "outputs": [
    {
     "data": {
      "text/html": [
       "<div>\n",
       "<style scoped>\n",
       "    .dataframe tbody tr th:only-of-type {\n",
       "        vertical-align: middle;\n",
       "    }\n",
       "\n",
       "    .dataframe tbody tr th {\n",
       "        vertical-align: top;\n",
       "    }\n",
       "\n",
       "    .dataframe thead th {\n",
       "        text-align: right;\n",
       "    }\n",
       "</style>\n",
       "<table border=\"1\" class=\"dataframe\">\n",
       "  <thead>\n",
       "    <tr style=\"text-align: right;\">\n",
       "      <th></th>\n",
       "      <th>Num_Acc</th>\n",
       "      <th>catr</th>\n",
       "      <th>circ</th>\n",
       "      <th>nbv</th>\n",
       "      <th>surf</th>\n",
       "    </tr>\n",
       "  </thead>\n",
       "  <tbody>\n",
       "    <tr>\n",
       "      <th>count</th>\n",
       "      <td>8.399850e+05</td>\n",
       "      <td>839984.000000</td>\n",
       "      <td>839187.000000</td>\n",
       "      <td>838195.000000</td>\n",
       "      <td>838968.000000</td>\n",
       "    </tr>\n",
       "    <tr>\n",
       "      <th>mean</th>\n",
       "      <td>2.010011e+11</td>\n",
       "      <td>3.418247</td>\n",
       "      <td>1.855246</td>\n",
       "      <td>2.039593</td>\n",
       "      <td>1.257012</td>\n",
       "    </tr>\n",
       "    <tr>\n",
       "      <th>std</th>\n",
       "      <td>3.458009e+08</td>\n",
       "      <td>1.207917</td>\n",
       "      <td>0.720949</td>\n",
       "      <td>1.550779</td>\n",
       "      <td>0.954748</td>\n",
       "    </tr>\n",
       "    <tr>\n",
       "      <th>min</th>\n",
       "      <td>2.005000e+11</td>\n",
       "      <td>1.000000</td>\n",
       "      <td>0.000000</td>\n",
       "      <td>0.000000</td>\n",
       "      <td>0.000000</td>\n",
       "    </tr>\n",
       "    <tr>\n",
       "      <th>25%</th>\n",
       "      <td>2.007000e+11</td>\n",
       "      <td>3.000000</td>\n",
       "      <td>2.000000</td>\n",
       "      <td>2.000000</td>\n",
       "      <td>1.000000</td>\n",
       "    </tr>\n",
       "    <tr>\n",
       "      <th>50%</th>\n",
       "      <td>2.010000e+11</td>\n",
       "      <td>4.000000</td>\n",
       "      <td>2.000000</td>\n",
       "      <td>2.000000</td>\n",
       "      <td>1.000000</td>\n",
       "    </tr>\n",
       "    <tr>\n",
       "      <th>75%</th>\n",
       "      <td>2.013000e+11</td>\n",
       "      <td>4.000000</td>\n",
       "      <td>2.000000</td>\n",
       "      <td>2.000000</td>\n",
       "      <td>1.000000</td>\n",
       "    </tr>\n",
       "    <tr>\n",
       "      <th>max</th>\n",
       "      <td>2.016001e+11</td>\n",
       "      <td>9.000000</td>\n",
       "      <td>4.000000</td>\n",
       "      <td>99.000000</td>\n",
       "      <td>9.000000</td>\n",
       "    </tr>\n",
       "  </tbody>\n",
       "</table>\n",
       "</div>"
      ],
      "text/plain": [
       "            Num_Acc           catr           circ            nbv  \\\n",
       "count  8.399850e+05  839984.000000  839187.000000  838195.000000   \n",
       "mean   2.010011e+11       3.418247       1.855246       2.039593   \n",
       "std    3.458009e+08       1.207917       0.720949       1.550779   \n",
       "min    2.005000e+11       1.000000       0.000000       0.000000   \n",
       "25%    2.007000e+11       3.000000       2.000000       2.000000   \n",
       "50%    2.010000e+11       4.000000       2.000000       2.000000   \n",
       "75%    2.013000e+11       4.000000       2.000000       2.000000   \n",
       "max    2.016001e+11       9.000000       4.000000      99.000000   \n",
       "\n",
       "                surf  \n",
       "count  838968.000000  \n",
       "mean        1.257012  \n",
       "std         0.954748  \n",
       "min         0.000000  \n",
       "25%         1.000000  \n",
       "50%         1.000000  \n",
       "75%         1.000000  \n",
       "max         9.000000  "
      ]
     },
     "execution_count": 234,
     "metadata": {},
     "output_type": "execute_result"
    }
   ],
   "source": [
    "places_df = places_df.drop([\"v1\", \"voie\", \"v2\", \"pr\", \"pr1\", \"vosp\", \"prof\", \"plan\", \"lartpc\", \"larrout\", \"situ\", \"env1\", \"infra\"], axis=1)\n",
    "\n",
    "places_df.describe()"
   ]
  },
  {
   "cell_type": "markdown",
   "metadata": {},
   "source": [
    "From the description of the data, we can see that there are several missing values and outliers."
   ]
  },
  {
   "cell_type": "code",
   "execution_count": 235,
   "metadata": {},
   "outputs": [
    {
     "name": "stdout",
     "output_type": "stream",
     "text": [
      "<class 'pandas.core.frame.DataFrame'>\n",
      "RangeIndex: 839985 entries, 0 to 839984\n",
      "Data columns (total 5 columns):\n",
      " #   Column   Non-Null Count   Dtype  \n",
      "---  ------   --------------   -----  \n",
      " 0   Num_Acc  839985 non-null  int64  \n",
      " 1   catr     839984 non-null  float64\n",
      " 2   circ     839187 non-null  float64\n",
      " 3   nbv      838195 non-null  float64\n",
      " 4   surf     838968 non-null  float64\n",
      "dtypes: float64(4), int64(1)\n",
      "memory usage: 32.0 MB\n"
     ]
    }
   ],
   "source": [
    "places_df.info()"
   ]
  },
  {
   "cell_type": "markdown",
   "metadata": {},
   "source": [
    "The \"catr\" missing value is filled with a 9 which represents the \"other\" categorie, which seems the most appropriate."
   ]
  },
  {
   "cell_type": "code",
   "execution_count": 236,
   "metadata": {},
   "outputs": [
    {
     "data": {
      "text/plain": [
       "1"
      ]
     },
     "execution_count": 236,
     "metadata": {},
     "output_type": "execute_result"
    }
   ],
   "source": [
    "places_df[\"catr\"].isna().sum()"
   ]
  },
  {
   "cell_type": "code",
   "execution_count": 237,
   "metadata": {},
   "outputs": [],
   "source": [
    "places_df[\"catr\"] = places_df[\"catr\"].fillna(9)\n",
    "places_df[\"catr\"] = places_df[\"catr\"].astype(int)"
   ]
  },
  {
   "cell_type": "markdown",
   "metadata": {},
   "source": [
    "We will replace the missing and null values by 2, which is largely the major category."
   ]
  },
  {
   "cell_type": "code",
   "execution_count": 238,
   "metadata": {},
   "outputs": [
    {
     "data": {
      "text/plain": [
       "2.0    532823\n",
       "1.0    149375\n",
       "3.0    107855\n",
       "0.0     44556\n",
       "4.0      4578\n",
       "Name: circ, dtype: int64"
      ]
     },
     "execution_count": 238,
     "metadata": {},
     "output_type": "execute_result"
    }
   ],
   "source": [
    "places_df[\"circ\"].value_counts()"
   ]
  },
  {
   "cell_type": "code",
   "execution_count": 239,
   "metadata": {},
   "outputs": [
    {
     "data": {
      "image/png": "[encoded data removed]",
      "text/plain": [
       "<Figure size 432x288 with 1 Axes>"
      ]
     },
     "metadata": {
      "needs_background": "light"
     },
     "output_type": "display_data"
    }
   ],
   "source": [
    "places_df[\"circ\"].hist()\n",
    "places_df[\"circ\"] = places_df[\"circ\"].fillna(2)\n",
    "places_df[\"circ\"] = places_df[\"circ\"].replace(0,2)\n",
    "places_df[\"circ\"] = places_df[\"circ\"].astype(int)"
   ]
  },
  {
   "cell_type": "markdown",
   "metadata": {},
   "source": [
    "For the \"nbv\" feature, we count the missing values as well as the outliers (0 & above 6) and replace them by the value 2, which is the major value from far."
   ]
  },
  {
   "cell_type": "code",
   "execution_count": 240,
   "metadata": {},
   "outputs": [
    {
     "data": {
      "text/plain": [
       "1790"
      ]
     },
     "execution_count": 240,
     "metadata": {},
     "output_type": "execute_result"
    }
   ],
   "source": [
    "places_df[\"nbv\"].isna().sum()"
   ]
  },
  {
   "cell_type": "code",
   "execution_count": 241,
   "metadata": {},
   "outputs": [],
   "source": [
    "places_df[\"nbv\"] = places_df[\"nbv\"].where(places_df[\"nbv\"] < 6,0)"
   ]
  },
  {
   "cell_type": "code",
   "execution_count": 242,
   "metadata": {},
   "outputs": [
    {
     "data": {
      "text/plain": [
       "2.0    464716\n",
       "0.0    122899\n",
       "1.0    101345\n",
       "4.0     76934\n",
       "3.0     66252\n",
       "Name: nbv, dtype: int64"
      ]
     },
     "execution_count": 242,
     "metadata": {},
     "output_type": "execute_result"
    }
   ],
   "source": [
    "places_df[\"nbv\"].value_counts().head(5)"
   ]
  },
  {
   "cell_type": "code",
   "execution_count": 243,
   "metadata": {},
   "outputs": [
    {
     "data": {
      "text/plain": [
       "<matplotlib.axes._subplots.AxesSubplot at 0x23d81f609d0>"
      ]
     },
     "execution_count": 243,
     "metadata": {},
     "output_type": "execute_result"
    },
    {
     "data": {
      "image/png": "[encoded data removed]",
      "text/plain": [
       "<Figure size 432x288 with 1 Axes>"
      ]
     },
     "metadata": {
      "needs_background": "light"
     },
     "output_type": "display_data"
    }
   ],
   "source": [
    "places_df[\"nbv\"].hist()"
   ]
  },
  {
   "cell_type": "code",
   "execution_count": 244,
   "metadata": {},
   "outputs": [],
   "source": [
    "places_df[\"nbv\"] = places_df[\"nbv\"].fillna(2)\n",
    "places_df[\"nbv\"] = places_df[\"nbv\"].replace(0,2)\n",
    "places_df[\"nbv\"] = places_df[\"nbv\"].astype(int)"
   ]
  },
  {
   "cell_type": "markdown",
   "metadata": {},
   "source": [
    "Similarly, in the \"surf\" column, we replace missing and null values by the most frequent value, 1."
   ]
  },
  {
   "cell_type": "code",
   "execution_count": 245,
   "metadata": {},
   "outputs": [
    {
     "data": {
      "text/plain": [
       "1017"
      ]
     },
     "execution_count": 245,
     "metadata": {},
     "output_type": "execute_result"
    }
   ],
   "source": [
    "places_df[\"surf\"].isna().sum()"
   ]
  },
  {
   "cell_type": "code",
   "execution_count": 246,
   "metadata": {},
   "outputs": [
    {
     "data": {
      "text/plain": [
       "1.0    652322\n",
       "2.0    143254\n",
       "0.0     26998\n",
       "7.0      5474\n",
       "9.0      4483\n",
       "Name: surf, dtype: int64"
      ]
     },
     "execution_count": 246,
     "metadata": {},
     "output_type": "execute_result"
    }
   ],
   "source": [
    "places_df[\"surf\"].value_counts().head(5)"
   ]
  },
  {
   "cell_type": "code",
   "execution_count": 247,
   "metadata": {},
   "outputs": [
    {
     "data": {
      "text/plain": [
       "<matplotlib.axes._subplots.AxesSubplot at 0x23d81d72400>"
      ]
     },
     "execution_count": 247,
     "metadata": {},
     "output_type": "execute_result"
    },
    {
     "data": {
      "image/png": "[encoded data removed]",
      "text/plain": [
       "<Figure size 432x288 with 1 Axes>"
      ]
     },
     "metadata": {
      "needs_background": "light"
     },
     "output_type": "display_data"
    }
   ],
   "source": [
    "places_df[\"surf\"].hist()"
   ]
  },
  {
   "cell_type": "code",
   "execution_count": 248,
   "metadata": {},
   "outputs": [],
   "source": [
    "places_df[\"surf\"] = places_df[\"surf\"].fillna(1)\n",
    "places_df[\"surf\"] = places_df[\"surf\"].replace(0,1)\n",
    "places_df[\"surf\"] = places_df[\"surf\"].astype(int)"
   ]
  },
  {
   "cell_type": "markdown",
   "metadata": {},
   "source": [
    "That is all, we have a desired dataset now."
   ]
  },
  {
   "cell_type": "code",
   "execution_count": 249,
   "metadata": {},
   "outputs": [
    {
     "name": "stdout",
     "output_type": "stream",
     "text": [
      "<class 'pandas.core.frame.DataFrame'>\n",
      "RangeIndex: 839985 entries, 0 to 839984\n",
      "Data columns (total 5 columns):\n",
      " #   Column   Non-Null Count   Dtype\n",
      "---  ------   --------------   -----\n",
      " 0   Num_Acc  839985 non-null  int64\n",
      " 1   catr     839985 non-null  int32\n",
      " 2   circ     839985 non-null  int32\n",
      " 3   nbv      839985 non-null  int32\n",
      " 4   surf     839985 non-null  int32\n",
      "dtypes: int32(4), int64(1)\n",
      "memory usage: 19.2 MB\n"
     ]
    }
   ],
   "source": [
    "places_df.info()"
   ]
  },
  {
   "cell_type": "code",
   "execution_count": 250,
   "metadata": {},
   "outputs": [
    {
     "data": {
      "text/html": [
       "<div>\n",
       "<style scoped>\n",
       "    .dataframe tbody tr th:only-of-type {\n",
       "        vertical-align: middle;\n",
       "    }\n",
       "\n",
       "    .dataframe tbody tr th {\n",
       "        vertical-align: top;\n",
       "    }\n",
       "\n",
       "    .dataframe thead th {\n",
       "        text-align: right;\n",
       "    }\n",
       "</style>\n",
       "<table border=\"1\" class=\"dataframe\">\n",
       "  <thead>\n",
       "    <tr style=\"text-align: right;\">\n",
       "      <th></th>\n",
       "      <th>Num_Acc</th>\n",
       "      <th>catr</th>\n",
       "      <th>circ</th>\n",
       "      <th>nbv</th>\n",
       "      <th>surf</th>\n",
       "    </tr>\n",
       "  </thead>\n",
       "  <tbody>\n",
       "    <tr>\n",
       "      <th>count</th>\n",
       "      <td>8.399850e+05</td>\n",
       "      <td>839985.000000</td>\n",
       "      <td>839985.000000</td>\n",
       "      <td>839985.000000</td>\n",
       "      <td>839985.000000</td>\n",
       "    </tr>\n",
       "    <tr>\n",
       "      <th>mean</th>\n",
       "      <td>2.010011e+11</td>\n",
       "      <td>3.418254</td>\n",
       "      <td>1.961471</td>\n",
       "      <td>2.169398</td>\n",
       "      <td>1.288842</td>\n",
       "    </tr>\n",
       "    <tr>\n",
       "      <th>std</th>\n",
       "      <td>3.458009e+08</td>\n",
       "      <td>1.207931</td>\n",
       "      <td>0.571444</td>\n",
       "      <td>0.788149</td>\n",
       "      <td>0.927817</td>\n",
       "    </tr>\n",
       "    <tr>\n",
       "      <th>min</th>\n",
       "      <td>2.005000e+11</td>\n",
       "      <td>1.000000</td>\n",
       "      <td>1.000000</td>\n",
       "      <td>1.000000</td>\n",
       "      <td>1.000000</td>\n",
       "    </tr>\n",
       "    <tr>\n",
       "      <th>25%</th>\n",
       "      <td>2.007000e+11</td>\n",
       "      <td>3.000000</td>\n",
       "      <td>2.000000</td>\n",
       "      <td>2.000000</td>\n",
       "      <td>1.000000</td>\n",
       "    </tr>\n",
       "    <tr>\n",
       "      <th>50%</th>\n",
       "      <td>2.010000e+11</td>\n",
       "      <td>4.000000</td>\n",
       "      <td>2.000000</td>\n",
       "      <td>2.000000</td>\n",
       "      <td>1.000000</td>\n",
       "    </tr>\n",
       "    <tr>\n",
       "      <th>75%</th>\n",
       "      <td>2.013000e+11</td>\n",
       "      <td>4.000000</td>\n",
       "      <td>2.000000</td>\n",
       "      <td>2.000000</td>\n",
       "      <td>1.000000</td>\n",
       "    </tr>\n",
       "    <tr>\n",
       "      <th>max</th>\n",
       "      <td>2.016001e+11</td>\n",
       "      <td>9.000000</td>\n",
       "      <td>4.000000</td>\n",
       "      <td>5.000000</td>\n",
       "      <td>9.000000</td>\n",
       "    </tr>\n",
       "  </tbody>\n",
       "</table>\n",
       "</div>"
      ],
      "text/plain": [
       "            Num_Acc           catr           circ            nbv  \\\n",
       "count  8.399850e+05  839985.000000  839985.000000  839985.000000   \n",
       "mean   2.010011e+11       3.418254       1.961471       2.169398   \n",
       "std    3.458009e+08       1.207931       0.571444       0.788149   \n",
       "min    2.005000e+11       1.000000       1.000000       1.000000   \n",
       "25%    2.007000e+11       3.000000       2.000000       2.000000   \n",
       "50%    2.010000e+11       4.000000       2.000000       2.000000   \n",
       "75%    2.013000e+11       4.000000       2.000000       2.000000   \n",
       "max    2.016001e+11       9.000000       4.000000       5.000000   \n",
       "\n",
       "                surf  \n",
       "count  839985.000000  \n",
       "mean        1.288842  \n",
       "std         0.927817  \n",
       "min         1.000000  \n",
       "25%         1.000000  \n",
       "50%         1.000000  \n",
       "75%         1.000000  \n",
       "max         9.000000  "
      ]
     },
     "execution_count": 250,
     "metadata": {},
     "output_type": "execute_result"
    }
   ],
   "source": [
    "places_df.describe()"
   ]
  },
  {
   "cell_type": "markdown",
   "metadata": {},
   "source": [
    "## Caracteristics"
   ]
  },
  {
   "cell_type": "code",
   "execution_count": 251,
   "metadata": {},
   "outputs": [
    {
     "data": {
      "text/html": [
       "<div>\n",
       "<style scoped>\n",
       "    .dataframe tbody tr th:only-of-type {\n",
       "        vertical-align: middle;\n",
       "    }\n",
       "\n",
       "    .dataframe tbody tr th {\n",
       "        vertical-align: top;\n",
       "    }\n",
       "\n",
       "    .dataframe thead th {\n",
       "        text-align: right;\n",
       "    }\n",
       "</style>\n",
       "<table border=\"1\" class=\"dataframe\">\n",
       "  <thead>\n",
       "    <tr style=\"text-align: right;\">\n",
       "      <th></th>\n",
       "      <th>Num_Acc</th>\n",
       "      <th>an</th>\n",
       "      <th>mois</th>\n",
       "      <th>jour</th>\n",
       "      <th>hrmn</th>\n",
       "      <th>lum</th>\n",
       "      <th>agg</th>\n",
       "      <th>int</th>\n",
       "      <th>atm</th>\n",
       "      <th>col</th>\n",
       "      <th>com</th>\n",
       "      <th>lat</th>\n",
       "      <th>dep</th>\n",
       "    </tr>\n",
       "  </thead>\n",
       "  <tbody>\n",
       "    <tr>\n",
       "      <th>count</th>\n",
       "      <td>8.399850e+05</td>\n",
       "      <td>839985.000000</td>\n",
       "      <td>839985.000000</td>\n",
       "      <td>839985.000000</td>\n",
       "      <td>839985.000000</td>\n",
       "      <td>839985.000000</td>\n",
       "      <td>839985.000000</td>\n",
       "      <td>839985.000000</td>\n",
       "      <td>839930.000000</td>\n",
       "      <td>839974.000000</td>\n",
       "      <td>839983.000000</td>\n",
       "      <td>3.624710e+05</td>\n",
       "      <td>839985.000000</td>\n",
       "    </tr>\n",
       "    <tr>\n",
       "      <th>mean</th>\n",
       "      <td>2.010011e+11</td>\n",
       "      <td>10.011129</td>\n",
       "      <td>6.679437</td>\n",
       "      <td>15.594687</td>\n",
       "      <td>1381.093505</td>\n",
       "      <td>1.912588</td>\n",
       "      <td>1.685924</td>\n",
       "      <td>1.694066</td>\n",
       "      <td>1.547116</td>\n",
       "      <td>4.187484</td>\n",
       "      <td>186.510172</td>\n",
       "      <td>2.849715e+06</td>\n",
       "      <td>564.257671</td>\n",
       "    </tr>\n",
       "    <tr>\n",
       "      <th>std</th>\n",
       "      <td>3.458009e+08</td>\n",
       "      <td>3.458059</td>\n",
       "      <td>3.389489</td>\n",
       "      <td>8.750201</td>\n",
       "      <td>540.757462</td>\n",
       "      <td>1.517900</td>\n",
       "      <td>0.464147</td>\n",
       "      <td>1.510792</td>\n",
       "      <td>1.587668</td>\n",
       "      <td>1.974998</td>\n",
       "      <td>171.873105</td>\n",
       "      <td>2.284591e+06</td>\n",
       "      <td>291.153083</td>\n",
       "    </tr>\n",
       "    <tr>\n",
       "      <th>min</th>\n",
       "      <td>2.005000e+11</td>\n",
       "      <td>5.000000</td>\n",
       "      <td>1.000000</td>\n",
       "      <td>1.000000</td>\n",
       "      <td>1.000000</td>\n",
       "      <td>1.000000</td>\n",
       "      <td>1.000000</td>\n",
       "      <td>0.000000</td>\n",
       "      <td>1.000000</td>\n",
       "      <td>1.000000</td>\n",
       "      <td>0.000000</td>\n",
       "      <td>0.000000e+00</td>\n",
       "      <td>10.000000</td>\n",
       "    </tr>\n",
       "    <tr>\n",
       "      <th>25%</th>\n",
       "      <td>2.007000e+11</td>\n",
       "      <td>7.000000</td>\n",
       "      <td>4.000000</td>\n",
       "      <td>8.000000</td>\n",
       "      <td>1000.000000</td>\n",
       "      <td>1.000000</td>\n",
       "      <td>1.000000</td>\n",
       "      <td>1.000000</td>\n",
       "      <td>1.000000</td>\n",
       "      <td>3.000000</td>\n",
       "      <td>55.000000</td>\n",
       "      <td>0.000000e+00</td>\n",
       "      <td>310.000000</td>\n",
       "    </tr>\n",
       "    <tr>\n",
       "      <th>50%</th>\n",
       "      <td>2.010000e+11</td>\n",
       "      <td>10.000000</td>\n",
       "      <td>7.000000</td>\n",
       "      <td>15.000000</td>\n",
       "      <td>1446.000000</td>\n",
       "      <td>1.000000</td>\n",
       "      <td>2.000000</td>\n",
       "      <td>1.000000</td>\n",
       "      <td>1.000000</td>\n",
       "      <td>3.000000</td>\n",
       "      <td>118.000000</td>\n",
       "      <td>4.370200e+06</td>\n",
       "      <td>630.000000</td>\n",
       "    </tr>\n",
       "    <tr>\n",
       "      <th>75%</th>\n",
       "      <td>2.013000e+11</td>\n",
       "      <td>13.000000</td>\n",
       "      <td>10.000000</td>\n",
       "      <td>23.000000</td>\n",
       "      <td>1810.000000</td>\n",
       "      <td>3.000000</td>\n",
       "      <td>2.000000</td>\n",
       "      <td>2.000000</td>\n",
       "      <td>1.000000</td>\n",
       "      <td>6.000000</td>\n",
       "      <td>278.000000</td>\n",
       "      <td>4.799218e+06</td>\n",
       "      <td>780.000000</td>\n",
       "    </tr>\n",
       "    <tr>\n",
       "      <th>max</th>\n",
       "      <td>2.016001e+11</td>\n",
       "      <td>16.000000</td>\n",
       "      <td>12.000000</td>\n",
       "      <td>31.000000</td>\n",
       "      <td>2359.000000</td>\n",
       "      <td>5.000000</td>\n",
       "      <td>2.000000</td>\n",
       "      <td>9.000000</td>\n",
       "      <td>9.000000</td>\n",
       "      <td>7.000000</td>\n",
       "      <td>987.000000</td>\n",
       "      <td>5.564823e+06</td>\n",
       "      <td>976.000000</td>\n",
       "    </tr>\n",
       "  </tbody>\n",
       "</table>\n",
       "</div>"
      ],
      "text/plain": [
       "            Num_Acc             an           mois           jour  \\\n",
       "count  8.399850e+05  839985.000000  839985.000000  839985.000000   \n",
       "mean   2.010011e+11      10.011129       6.679437      15.594687   \n",
       "std    3.458009e+08       3.458059       3.389489       8.750201   \n",
       "min    2.005000e+11       5.000000       1.000000       1.000000   \n",
       "25%    2.007000e+11       7.000000       4.000000       8.000000   \n",
       "50%    2.010000e+11      10.000000       7.000000      15.000000   \n",
       "75%    2.013000e+11      13.000000      10.000000      23.000000   \n",
       "max    2.016001e+11      16.000000      12.000000      31.000000   \n",
       "\n",
       "                hrmn            lum            agg            int  \\\n",
       "count  839985.000000  839985.000000  839985.000000  839985.000000   \n",
       "mean     1381.093505       1.912588       1.685924       1.694066   \n",
       "std       540.757462       1.517900       0.464147       1.510792   \n",
       "min         1.000000       1.000000       1.000000       0.000000   \n",
       "25%      1000.000000       1.000000       1.000000       1.000000   \n",
       "50%      1446.000000       1.000000       2.000000       1.000000   \n",
       "75%      1810.000000       3.000000       2.000000       2.000000   \n",
       "max      2359.000000       5.000000       2.000000       9.000000   \n",
       "\n",
       "                 atm            col            com           lat  \\\n",
       "count  839930.000000  839974.000000  839983.000000  3.624710e+05   \n",
       "mean        1.547116       4.187484     186.510172  2.849715e+06   \n",
       "std         1.587668       1.974998     171.873105  2.284591e+06   \n",
       "min         1.000000       1.000000       0.000000  0.000000e+00   \n",
       "25%         1.000000       3.000000      55.000000  0.000000e+00   \n",
       "50%         1.000000       3.000000     118.000000  4.370200e+06   \n",
       "75%         1.000000       6.000000     278.000000  4.799218e+06   \n",
       "max         9.000000       7.000000     987.000000  5.564823e+06   \n",
       "\n",
       "                 dep  \n",
       "count  839985.000000  \n",
       "mean      564.257671  \n",
       "std       291.153083  \n",
       "min        10.000000  \n",
       "25%       310.000000  \n",
       "50%       630.000000  \n",
       "75%       780.000000  \n",
       "max       976.000000  "
      ]
     },
     "execution_count": 251,
     "metadata": {},
     "output_type": "execute_result"
    }
   ],
   "source": [
    "caracteristics_df.describe()"
   ]
  },
  {
   "cell_type": "markdown",
   "metadata": {},
   "source": [
    "Similarly for the \"caracteristics\" dataset, we keep only the interesting values: \"month\", \"day of month\", \"time\", \"lighting\", \"agglomeration\", \"intersection\", \"atmospheric condition\", \"department\""
   ]
  },
  {
   "cell_type": "code",
   "execution_count": 252,
   "metadata": {},
   "outputs": [
    {
     "data": {
      "text/html": [
       "<div>\n",
       "<style scoped>\n",
       "    .dataframe tbody tr th:only-of-type {\n",
       "        vertical-align: middle;\n",
       "    }\n",
       "\n",
       "    .dataframe tbody tr th {\n",
       "        vertical-align: top;\n",
       "    }\n",
       "\n",
       "    .dataframe thead th {\n",
       "        text-align: right;\n",
       "    }\n",
       "</style>\n",
       "<table border=\"1\" class=\"dataframe\">\n",
       "  <thead>\n",
       "    <tr style=\"text-align: right;\">\n",
       "      <th></th>\n",
       "      <th>Num_Acc</th>\n",
       "      <th>mois</th>\n",
       "      <th>jour</th>\n",
       "      <th>hrmn</th>\n",
       "      <th>lum</th>\n",
       "      <th>agg</th>\n",
       "      <th>int</th>\n",
       "      <th>atm</th>\n",
       "      <th>dep</th>\n",
       "    </tr>\n",
       "  </thead>\n",
       "  <tbody>\n",
       "    <tr>\n",
       "      <th>count</th>\n",
       "      <td>8.399850e+05</td>\n",
       "      <td>839985.000000</td>\n",
       "      <td>839985.000000</td>\n",
       "      <td>839985.000000</td>\n",
       "      <td>839985.000000</td>\n",
       "      <td>839985.000000</td>\n",
       "      <td>839985.000000</td>\n",
       "      <td>839930.000000</td>\n",
       "      <td>839985.000000</td>\n",
       "    </tr>\n",
       "    <tr>\n",
       "      <th>mean</th>\n",
       "      <td>2.010011e+11</td>\n",
       "      <td>6.679437</td>\n",
       "      <td>15.594687</td>\n",
       "      <td>1381.093505</td>\n",
       "      <td>1.912588</td>\n",
       "      <td>1.685924</td>\n",
       "      <td>1.694066</td>\n",
       "      <td>1.547116</td>\n",
       "      <td>564.257671</td>\n",
       "    </tr>\n",
       "    <tr>\n",
       "      <th>std</th>\n",
       "      <td>3.458009e+08</td>\n",
       "      <td>3.389489</td>\n",
       "      <td>8.750201</td>\n",
       "      <td>540.757462</td>\n",
       "      <td>1.517900</td>\n",
       "      <td>0.464147</td>\n",
       "      <td>1.510792</td>\n",
       "      <td>1.587668</td>\n",
       "      <td>291.153083</td>\n",
       "    </tr>\n",
       "    <tr>\n",
       "      <th>min</th>\n",
       "      <td>2.005000e+11</td>\n",
       "      <td>1.000000</td>\n",
       "      <td>1.000000</td>\n",
       "      <td>1.000000</td>\n",
       "      <td>1.000000</td>\n",
       "      <td>1.000000</td>\n",
       "      <td>0.000000</td>\n",
       "      <td>1.000000</td>\n",
       "      <td>10.000000</td>\n",
       "    </tr>\n",
       "    <tr>\n",
       "      <th>25%</th>\n",
       "      <td>2.007000e+11</td>\n",
       "      <td>4.000000</td>\n",
       "      <td>8.000000</td>\n",
       "      <td>1000.000000</td>\n",
       "      <td>1.000000</td>\n",
       "      <td>1.000000</td>\n",
       "      <td>1.000000</td>\n",
       "      <td>1.000000</td>\n",
       "      <td>310.000000</td>\n",
       "    </tr>\n",
       "    <tr>\n",
       "      <th>50%</th>\n",
       "      <td>2.010000e+11</td>\n",
       "      <td>7.000000</td>\n",
       "      <td>15.000000</td>\n",
       "      <td>1446.000000</td>\n",
       "      <td>1.000000</td>\n",
       "      <td>2.000000</td>\n",
       "      <td>1.000000</td>\n",
       "      <td>1.000000</td>\n",
       "      <td>630.000000</td>\n",
       "    </tr>\n",
       "    <tr>\n",
       "      <th>75%</th>\n",
       "      <td>2.013000e+11</td>\n",
       "      <td>10.000000</td>\n",
       "      <td>23.000000</td>\n",
       "      <td>1810.000000</td>\n",
       "      <td>3.000000</td>\n",
       "      <td>2.000000</td>\n",
       "      <td>2.000000</td>\n",
       "      <td>1.000000</td>\n",
       "      <td>780.000000</td>\n",
       "    </tr>\n",
       "    <tr>\n",
       "      <th>max</th>\n",
       "      <td>2.016001e+11</td>\n",
       "      <td>12.000000</td>\n",
       "      <td>31.000000</td>\n",
       "      <td>2359.000000</td>\n",
       "      <td>5.000000</td>\n",
       "      <td>2.000000</td>\n",
       "      <td>9.000000</td>\n",
       "      <td>9.000000</td>\n",
       "      <td>976.000000</td>\n",
       "    </tr>\n",
       "  </tbody>\n",
       "</table>\n",
       "</div>"
      ],
      "text/plain": [
       "            Num_Acc           mois           jour           hrmn  \\\n",
       "count  8.399850e+05  839985.000000  839985.000000  839985.000000   \n",
       "mean   2.010011e+11       6.679437      15.594687    1381.093505   \n",
       "std    3.458009e+08       3.389489       8.750201     540.757462   \n",
       "min    2.005000e+11       1.000000       1.000000       1.000000   \n",
       "25%    2.007000e+11       4.000000       8.000000    1000.000000   \n",
       "50%    2.010000e+11       7.000000      15.000000    1446.000000   \n",
       "75%    2.013000e+11      10.000000      23.000000    1810.000000   \n",
       "max    2.016001e+11      12.000000      31.000000    2359.000000   \n",
       "\n",
       "                 lum            agg            int            atm  \\\n",
       "count  839985.000000  839985.000000  839985.000000  839930.000000   \n",
       "mean        1.912588       1.685924       1.694066       1.547116   \n",
       "std         1.517900       0.464147       1.510792       1.587668   \n",
       "min         1.000000       1.000000       0.000000       1.000000   \n",
       "25%         1.000000       1.000000       1.000000       1.000000   \n",
       "50%         1.000000       2.000000       1.000000       1.000000   \n",
       "75%         3.000000       2.000000       2.000000       1.000000   \n",
       "max         5.000000       2.000000       9.000000       9.000000   \n",
       "\n",
       "                 dep  \n",
       "count  839985.000000  \n",
       "mean      564.257671  \n",
       "std       291.153083  \n",
       "min        10.000000  \n",
       "25%       310.000000  \n",
       "50%       630.000000  \n",
       "75%       780.000000  \n",
       "max       976.000000  "
      ]
     },
     "execution_count": 252,
     "metadata": {},
     "output_type": "execute_result"
    }
   ],
   "source": [
    "caracteristics_df = caracteristics_df.drop([\"an\", \"col\", \"com\", \"adr\", \"gps\", \"lat\", \"long\"], axis=1)\n",
    "\n",
    "caracteristics_df.describe()"
   ]
  },
  {
   "cell_type": "code",
   "execution_count": 253,
   "metadata": {},
   "outputs": [
    {
     "name": "stdout",
     "output_type": "stream",
     "text": [
      "<class 'pandas.core.frame.DataFrame'>\n",
      "RangeIndex: 839985 entries, 0 to 839984\n",
      "Data columns (total 9 columns):\n",
      " #   Column   Non-Null Count   Dtype  \n",
      "---  ------   --------------   -----  \n",
      " 0   Num_Acc  839985 non-null  int64  \n",
      " 1   mois     839985 non-null  int64  \n",
      " 2   jour     839985 non-null  int64  \n",
      " 3   hrmn     839985 non-null  int64  \n",
      " 4   lum      839985 non-null  int64  \n",
      " 5   agg      839985 non-null  int64  \n",
      " 6   int      839985 non-null  int64  \n",
      " 7   atm      839930 non-null  float64\n",
      " 8   dep      839985 non-null  int64  \n",
      "dtypes: float64(1), int64(8)\n",
      "memory usage: 57.7 MB\n"
     ]
    }
   ],
   "source": [
    "caracteristics_df.info()"
   ]
  },
  {
   "cell_type": "markdown",
   "metadata": {},
   "source": [
    "For the \"atm\" feature, missing values are replaced by 1"
   ]
  },
  {
   "cell_type": "code",
   "execution_count": 254,
   "metadata": {},
   "outputs": [
    {
     "data": {
      "text/plain": [
       "55"
      ]
     },
     "execution_count": 254,
     "metadata": {},
     "output_type": "execute_result"
    }
   ],
   "source": [
    "caracteristics_df[\"atm\"].isna().sum()\n"
   ]
  },
  {
   "cell_type": "code",
   "execution_count": 255,
   "metadata": {},
   "outputs": [],
   "source": [
    "caracteristics_df[\"atm\"] = caracteristics_df[\"atm\"].fillna(1)\n",
    "caracteristics_df[\"atm\"] = caracteristics_df[\"atm\"].astype(int)"
   ]
  },
  {
   "cell_type": "markdown",
   "metadata": {},
   "source": [
    "For the \"int\" feature, missing values are replaced by 1"
   ]
  },
  {
   "cell_type": "code",
   "execution_count": 256,
   "metadata": {},
   "outputs": [
    {
     "data": {
      "text/plain": [
       "106"
      ]
     },
     "execution_count": 256,
     "metadata": {},
     "output_type": "execute_result"
    }
   ],
   "source": [
    "(caracteristics_df[\"int\"] == 0).sum()"
   ]
  },
  {
   "cell_type": "code",
   "execution_count": 257,
   "metadata": {},
   "outputs": [],
   "source": [
    "caracteristics_df[\"int\"] = caracteristics_df[\"int\"].replace(0,1)"
   ]
  },
  {
   "cell_type": "markdown",
   "metadata": {},
   "source": [
    "For \"hrmn\" will keep information about the hour (2 first numbers).\n",
    "\n",
    "So we can compute all the data in the column to keep only the 2 first digits: we divide by 100 and then floor the number."
   ]
  },
  {
   "cell_type": "code",
   "execution_count": 258,
   "metadata": {},
   "outputs": [
    {
     "data": {
      "text/plain": [
       "<matplotlib.axes._subplots.AxesSubplot at 0x23d822a6850>"
      ]
     },
     "execution_count": 258,
     "metadata": {},
     "output_type": "execute_result"
    },
    {
     "data": {
      "image/png": "[encoded data removed]",
      "text/plain": [
       "<Figure size 432x288 with 1 Axes>"
      ]
     },
     "metadata": {
      "needs_background": "light"
     },
     "output_type": "display_data"
    }
   ],
   "source": [
    "caracteristics_df[\"hrmn\"] = caracteristics_df[\"hrmn\"].div(100).apply(np.floor)\n",
    "caracteristics_df[\"hrmn\"] = caracteristics_df[\"hrmn\"].astype(int)\n",
    "caracteristics_df[\"hrmn\"].hist()"
   ]
  },
  {
   "cell_type": "markdown",
   "metadata": {},
   "source": [
    "A similar transformation is made to \"dep\", we will keep the department on a range 1 to 97, with 2 digits."
   ]
  },
  {
   "cell_type": "code",
   "execution_count": 259,
   "metadata": {},
   "outputs": [],
   "source": [
    "caracteristics_df[\"dep\"] = caracteristics_df[\"dep\"].div(10).apply(np.floor)\n",
    "caracteristics_df[\"dep\"] = caracteristics_df[\"dep\"].astype(int)"
   ]
  },
  {
   "cell_type": "markdown",
   "metadata": {},
   "source": [
    "Now we have a clear and nice \"caracteristics\" dataset"
   ]
  },
  {
   "cell_type": "code",
   "execution_count": 260,
   "metadata": {},
   "outputs": [
    {
     "name": "stdout",
     "output_type": "stream",
     "text": [
      "<class 'pandas.core.frame.DataFrame'>\n",
      "RangeIndex: 839985 entries, 0 to 839984\n",
      "Data columns (total 9 columns):\n",
      " #   Column   Non-Null Count   Dtype\n",
      "---  ------   --------------   -----\n",
      " 0   Num_Acc  839985 non-null  int64\n",
      " 1   mois     839985 non-null  int64\n",
      " 2   jour     839985 non-null  int64\n",
      " 3   hrmn     839985 non-null  int32\n",
      " 4   lum      839985 non-null  int64\n",
      " 5   agg      839985 non-null  int64\n",
      " 6   int      839985 non-null  int64\n",
      " 7   atm      839985 non-null  int32\n",
      " 8   dep      839985 non-null  int32\n",
      "dtypes: int32(3), int64(6)\n",
      "memory usage: 48.1 MB\n"
     ]
    }
   ],
   "source": [
    "caracteristics_df.info()"
   ]
  },
  {
   "cell_type": "code",
   "execution_count": 261,
   "metadata": {},
   "outputs": [
    {
     "data": {
      "text/html": [
       "<div>\n",
       "<style scoped>\n",
       "    .dataframe tbody tr th:only-of-type {\n",
       "        vertical-align: middle;\n",
       "    }\n",
       "\n",
       "    .dataframe tbody tr th {\n",
       "        vertical-align: top;\n",
       "    }\n",
       "\n",
       "    .dataframe thead th {\n",
       "        text-align: right;\n",
       "    }\n",
       "</style>\n",
       "<table border=\"1\" class=\"dataframe\">\n",
       "  <thead>\n",
       "    <tr style=\"text-align: right;\">\n",
       "      <th></th>\n",
       "      <th>Num_Acc</th>\n",
       "      <th>mois</th>\n",
       "      <th>jour</th>\n",
       "      <th>hrmn</th>\n",
       "      <th>lum</th>\n",
       "      <th>agg</th>\n",
       "      <th>int</th>\n",
       "      <th>atm</th>\n",
       "      <th>dep</th>\n",
       "    </tr>\n",
       "  </thead>\n",
       "  <tbody>\n",
       "    <tr>\n",
       "      <th>count</th>\n",
       "      <td>8.399850e+05</td>\n",
       "      <td>839985.000000</td>\n",
       "      <td>839985.000000</td>\n",
       "      <td>839985.000000</td>\n",
       "      <td>839985.000000</td>\n",
       "      <td>839985.000000</td>\n",
       "      <td>839985.000000</td>\n",
       "      <td>839985.000000</td>\n",
       "      <td>839985.000000</td>\n",
       "    </tr>\n",
       "    <tr>\n",
       "      <th>mean</th>\n",
       "      <td>2.010011e+11</td>\n",
       "      <td>6.679437</td>\n",
       "      <td>15.594687</td>\n",
       "      <td>13.559365</td>\n",
       "      <td>1.912588</td>\n",
       "      <td>1.685924</td>\n",
       "      <td>1.694192</td>\n",
       "      <td>1.547080</td>\n",
       "      <td>56.416155</td>\n",
       "    </tr>\n",
       "    <tr>\n",
       "      <th>std</th>\n",
       "      <td>3.458009e+08</td>\n",
       "      <td>3.389489</td>\n",
       "      <td>8.750201</td>\n",
       "      <td>5.411096</td>\n",
       "      <td>1.517900</td>\n",
       "      <td>0.464147</td>\n",
       "      <td>1.510692</td>\n",
       "      <td>1.587622</td>\n",
       "      <td>29.105356</td>\n",
       "    </tr>\n",
       "    <tr>\n",
       "      <th>min</th>\n",
       "      <td>2.005000e+11</td>\n",
       "      <td>1.000000</td>\n",
       "      <td>1.000000</td>\n",
       "      <td>0.000000</td>\n",
       "      <td>1.000000</td>\n",
       "      <td>1.000000</td>\n",
       "      <td>1.000000</td>\n",
       "      <td>1.000000</td>\n",
       "      <td>1.000000</td>\n",
       "    </tr>\n",
       "    <tr>\n",
       "      <th>25%</th>\n",
       "      <td>2.007000e+11</td>\n",
       "      <td>4.000000</td>\n",
       "      <td>8.000000</td>\n",
       "      <td>10.000000</td>\n",
       "      <td>1.000000</td>\n",
       "      <td>1.000000</td>\n",
       "      <td>1.000000</td>\n",
       "      <td>1.000000</td>\n",
       "      <td>31.000000</td>\n",
       "    </tr>\n",
       "    <tr>\n",
       "      <th>50%</th>\n",
       "      <td>2.010000e+11</td>\n",
       "      <td>7.000000</td>\n",
       "      <td>15.000000</td>\n",
       "      <td>14.000000</td>\n",
       "      <td>1.000000</td>\n",
       "      <td>2.000000</td>\n",
       "      <td>1.000000</td>\n",
       "      <td>1.000000</td>\n",
       "      <td>63.000000</td>\n",
       "    </tr>\n",
       "    <tr>\n",
       "      <th>75%</th>\n",
       "      <td>2.013000e+11</td>\n",
       "      <td>10.000000</td>\n",
       "      <td>23.000000</td>\n",
       "      <td>18.000000</td>\n",
       "      <td>3.000000</td>\n",
       "      <td>2.000000</td>\n",
       "      <td>2.000000</td>\n",
       "      <td>1.000000</td>\n",
       "      <td>78.000000</td>\n",
       "    </tr>\n",
       "    <tr>\n",
       "      <th>max</th>\n",
       "      <td>2.016001e+11</td>\n",
       "      <td>12.000000</td>\n",
       "      <td>31.000000</td>\n",
       "      <td>23.000000</td>\n",
       "      <td>5.000000</td>\n",
       "      <td>2.000000</td>\n",
       "      <td>9.000000</td>\n",
       "      <td>9.000000</td>\n",
       "      <td>97.000000</td>\n",
       "    </tr>\n",
       "  </tbody>\n",
       "</table>\n",
       "</div>"
      ],
      "text/plain": [
       "            Num_Acc           mois           jour           hrmn  \\\n",
       "count  8.399850e+05  839985.000000  839985.000000  839985.000000   \n",
       "mean   2.010011e+11       6.679437      15.594687      13.559365   \n",
       "std    3.458009e+08       3.389489       8.750201       5.411096   \n",
       "min    2.005000e+11       1.000000       1.000000       0.000000   \n",
       "25%    2.007000e+11       4.000000       8.000000      10.000000   \n",
       "50%    2.010000e+11       7.000000      15.000000      14.000000   \n",
       "75%    2.013000e+11      10.000000      23.000000      18.000000   \n",
       "max    2.016001e+11      12.000000      31.000000      23.000000   \n",
       "\n",
       "                 lum            agg            int            atm  \\\n",
       "count  839985.000000  839985.000000  839985.000000  839985.000000   \n",
       "mean        1.912588       1.685924       1.694192       1.547080   \n",
       "std         1.517900       0.464147       1.510692       1.587622   \n",
       "min         1.000000       1.000000       1.000000       1.000000   \n",
       "25%         1.000000       1.000000       1.000000       1.000000   \n",
       "50%         1.000000       2.000000       1.000000       1.000000   \n",
       "75%         3.000000       2.000000       2.000000       1.000000   \n",
       "max         5.000000       2.000000       9.000000       9.000000   \n",
       "\n",
       "                 dep  \n",
       "count  839985.000000  \n",
       "mean       56.416155  \n",
       "std        29.105356  \n",
       "min         1.000000  \n",
       "25%        31.000000  \n",
       "50%        63.000000  \n",
       "75%        78.000000  \n",
       "max        97.000000  "
      ]
     },
     "execution_count": 261,
     "metadata": {},
     "output_type": "execute_result"
    }
   ],
   "source": [
    "caracteristics_df.describe()"
   ]
  },
  {
   "cell_type": "markdown",
   "metadata": {},
   "source": [
    "## Merging"
   ]
  },
  {
   "cell_type": "markdown",
   "metadata": {},
   "source": [
    "Lets merge the 3 datasets based on the feature \"Num_acc\", the Accident ID, as the primary key. Post merging we will drop \"Num_acc\" which is not useful in prediction."
   ]
  },
  {
   "cell_type": "code",
   "execution_count": 262,
   "metadata": {},
   "outputs": [],
   "source": [
    "from functools import reduce\n",
    "accidents = reduce(lambda left, right: pd.merge(left, right, on = \"Num_Acc\"), [caracteristics_df, places_df, users_df])\n",
    "accidents = accidents.drop(\"Num_Acc\", axis=1)"
   ]
  },
  {
   "cell_type": "code",
   "execution_count": 263,
   "metadata": {},
   "outputs": [
    {
     "data": {
      "text/html": [
       "<div>\n",
       "<style scoped>\n",
       "    .dataframe tbody tr th:only-of-type {\n",
       "        vertical-align: middle;\n",
       "    }\n",
       "\n",
       "    .dataframe tbody tr th {\n",
       "        vertical-align: top;\n",
       "    }\n",
       "\n",
       "    .dataframe thead th {\n",
       "        text-align: right;\n",
       "    }\n",
       "</style>\n",
       "<table border=\"1\" class=\"dataframe\">\n",
       "  <thead>\n",
       "    <tr style=\"text-align: right;\">\n",
       "      <th></th>\n",
       "      <th>mois</th>\n",
       "      <th>jour</th>\n",
       "      <th>hrmn</th>\n",
       "      <th>lum</th>\n",
       "      <th>agg</th>\n",
       "      <th>int</th>\n",
       "      <th>atm</th>\n",
       "      <th>dep</th>\n",
       "      <th>catr</th>\n",
       "      <th>circ</th>\n",
       "      <th>nbv</th>\n",
       "      <th>surf</th>\n",
       "      <th>grav</th>\n",
       "    </tr>\n",
       "  </thead>\n",
       "  <tbody>\n",
       "    <tr>\n",
       "      <th>count</th>\n",
       "      <td>839985.000000</td>\n",
       "      <td>839985.000000</td>\n",
       "      <td>839985.000000</td>\n",
       "      <td>839985.000000</td>\n",
       "      <td>839985.000000</td>\n",
       "      <td>839985.000000</td>\n",
       "      <td>839985.000000</td>\n",
       "      <td>839985.000000</td>\n",
       "      <td>839985.000000</td>\n",
       "      <td>839985.000000</td>\n",
       "      <td>839985.000000</td>\n",
       "      <td>839985.000000</td>\n",
       "      <td>839985.000000</td>\n",
       "    </tr>\n",
       "    <tr>\n",
       "      <th>mean</th>\n",
       "      <td>6.679437</td>\n",
       "      <td>15.594687</td>\n",
       "      <td>13.559365</td>\n",
       "      <td>1.912588</td>\n",
       "      <td>1.685924</td>\n",
       "      <td>1.694192</td>\n",
       "      <td>1.547080</td>\n",
       "      <td>56.416155</td>\n",
       "      <td>3.418254</td>\n",
       "      <td>1.961471</td>\n",
       "      <td>2.169398</td>\n",
       "      <td>1.288842</td>\n",
       "      <td>0.438448</td>\n",
       "    </tr>\n",
       "    <tr>\n",
       "      <th>std</th>\n",
       "      <td>3.389489</td>\n",
       "      <td>8.750201</td>\n",
       "      <td>5.411096</td>\n",
       "      <td>1.517900</td>\n",
       "      <td>0.464147</td>\n",
       "      <td>1.510692</td>\n",
       "      <td>1.587622</td>\n",
       "      <td>29.105356</td>\n",
       "      <td>1.207931</td>\n",
       "      <td>0.571444</td>\n",
       "      <td>0.788149</td>\n",
       "      <td>0.927817</td>\n",
       "      <td>0.496197</td>\n",
       "    </tr>\n",
       "    <tr>\n",
       "      <th>min</th>\n",
       "      <td>1.000000</td>\n",
       "      <td>1.000000</td>\n",
       "      <td>0.000000</td>\n",
       "      <td>1.000000</td>\n",
       "      <td>1.000000</td>\n",
       "      <td>1.000000</td>\n",
       "      <td>1.000000</td>\n",
       "      <td>1.000000</td>\n",
       "      <td>1.000000</td>\n",
       "      <td>1.000000</td>\n",
       "      <td>1.000000</td>\n",
       "      <td>1.000000</td>\n",
       "      <td>0.000000</td>\n",
       "    </tr>\n",
       "    <tr>\n",
       "      <th>25%</th>\n",
       "      <td>4.000000</td>\n",
       "      <td>8.000000</td>\n",
       "      <td>10.000000</td>\n",
       "      <td>1.000000</td>\n",
       "      <td>1.000000</td>\n",
       "      <td>1.000000</td>\n",
       "      <td>1.000000</td>\n",
       "      <td>31.000000</td>\n",
       "      <td>3.000000</td>\n",
       "      <td>2.000000</td>\n",
       "      <td>2.000000</td>\n",
       "      <td>1.000000</td>\n",
       "      <td>0.000000</td>\n",
       "    </tr>\n",
       "    <tr>\n",
       "      <th>50%</th>\n",
       "      <td>7.000000</td>\n",
       "      <td>15.000000</td>\n",
       "      <td>14.000000</td>\n",
       "      <td>1.000000</td>\n",
       "      <td>2.000000</td>\n",
       "      <td>1.000000</td>\n",
       "      <td>1.000000</td>\n",
       "      <td>63.000000</td>\n",
       "      <td>4.000000</td>\n",
       "      <td>2.000000</td>\n",
       "      <td>2.000000</td>\n",
       "      <td>1.000000</td>\n",
       "      <td>0.000000</td>\n",
       "    </tr>\n",
       "    <tr>\n",
       "      <th>75%</th>\n",
       "      <td>10.000000</td>\n",
       "      <td>23.000000</td>\n",
       "      <td>18.000000</td>\n",
       "      <td>3.000000</td>\n",
       "      <td>2.000000</td>\n",
       "      <td>2.000000</td>\n",
       "      <td>1.000000</td>\n",
       "      <td>78.000000</td>\n",
       "      <td>4.000000</td>\n",
       "      <td>2.000000</td>\n",
       "      <td>2.000000</td>\n",
       "      <td>1.000000</td>\n",
       "      <td>1.000000</td>\n",
       "    </tr>\n",
       "    <tr>\n",
       "      <th>max</th>\n",
       "      <td>12.000000</td>\n",
       "      <td>31.000000</td>\n",
       "      <td>23.000000</td>\n",
       "      <td>5.000000</td>\n",
       "      <td>2.000000</td>\n",
       "      <td>9.000000</td>\n",
       "      <td>9.000000</td>\n",
       "      <td>97.000000</td>\n",
       "      <td>9.000000</td>\n",
       "      <td>4.000000</td>\n",
       "      <td>5.000000</td>\n",
       "      <td>9.000000</td>\n",
       "      <td>1.000000</td>\n",
       "    </tr>\n",
       "  </tbody>\n",
       "</table>\n",
       "</div>"
      ],
      "text/plain": [
       "                mois           jour           hrmn            lum  \\\n",
       "count  839985.000000  839985.000000  839985.000000  839985.000000   \n",
       "mean        6.679437      15.594687      13.559365       1.912588   \n",
       "std         3.389489       8.750201       5.411096       1.517900   \n",
       "min         1.000000       1.000000       0.000000       1.000000   \n",
       "25%         4.000000       8.000000      10.000000       1.000000   \n",
       "50%         7.000000      15.000000      14.000000       1.000000   \n",
       "75%        10.000000      23.000000      18.000000       3.000000   \n",
       "max        12.000000      31.000000      23.000000       5.000000   \n",
       "\n",
       "                 agg            int            atm            dep  \\\n",
       "count  839985.000000  839985.000000  839985.000000  839985.000000   \n",
       "mean        1.685924       1.694192       1.547080      56.416155   \n",
       "std         0.464147       1.510692       1.587622      29.105356   \n",
       "min         1.000000       1.000000       1.000000       1.000000   \n",
       "25%         1.000000       1.000000       1.000000      31.000000   \n",
       "50%         2.000000       1.000000       1.000000      63.000000   \n",
       "75%         2.000000       2.000000       1.000000      78.000000   \n",
       "max         2.000000       9.000000       9.000000      97.000000   \n",
       "\n",
       "                catr           circ            nbv           surf  \\\n",
       "count  839985.000000  839985.000000  839985.000000  839985.000000   \n",
       "mean        3.418254       1.961471       2.169398       1.288842   \n",
       "std         1.207931       0.571444       0.788149       0.927817   \n",
       "min         1.000000       1.000000       1.000000       1.000000   \n",
       "25%         3.000000       2.000000       2.000000       1.000000   \n",
       "50%         4.000000       2.000000       2.000000       1.000000   \n",
       "75%         4.000000       2.000000       2.000000       1.000000   \n",
       "max         9.000000       4.000000       5.000000       9.000000   \n",
       "\n",
       "                grav  \n",
       "count  839985.000000  \n",
       "mean        0.438448  \n",
       "std         0.496197  \n",
       "min         0.000000  \n",
       "25%         0.000000  \n",
       "50%         0.000000  \n",
       "75%         1.000000  \n",
       "max         1.000000  "
      ]
     },
     "execution_count": 263,
     "metadata": {},
     "output_type": "execute_result"
    }
   ],
   "source": [
    "data.describe()"
   ]
  },
  {
   "cell_type": "code",
   "execution_count": 264,
   "metadata": {},
   "outputs": [
    {
     "name": "stdout",
     "output_type": "stream",
     "text": [
      "<class 'pandas.core.frame.DataFrame'>\n",
      "Int64Index: 839985 entries, 0 to 839984\n",
      "Data columns (total 13 columns):\n",
      " #   Column  Non-Null Count   Dtype\n",
      "---  ------  --------------   -----\n",
      " 0   mois    839985 non-null  int64\n",
      " 1   jour    839985 non-null  int64\n",
      " 2   hrmn    839985 non-null  int32\n",
      " 3   lum     839985 non-null  int64\n",
      " 4   agg     839985 non-null  int64\n",
      " 5   int     839985 non-null  int64\n",
      " 6   atm     839985 non-null  int32\n",
      " 7   dep     839985 non-null  int32\n",
      " 8   catr    839985 non-null  int32\n",
      " 9   circ    839985 non-null  int32\n",
      " 10  nbv     839985 non-null  int32\n",
      " 11  surf    839985 non-null  int32\n",
      " 12  grav    839985 non-null  int64\n",
      "dtypes: int32(7), int64(6)\n",
      "memory usage: 67.3 MB\n"
     ]
    }
   ],
   "source": [
    "accidents.info()"
   ]
  },
  {
   "cell_type": "code",
   "execution_count": 265,
   "metadata": {},
   "outputs": [
    {
     "data": {
      "text/html": [
       "<div>\n",
       "<style scoped>\n",
       "    .dataframe tbody tr th:only-of-type {\n",
       "        vertical-align: middle;\n",
       "    }\n",
       "\n",
       "    .dataframe tbody tr th {\n",
       "        vertical-align: top;\n",
       "    }\n",
       "\n",
       "    .dataframe thead th {\n",
       "        text-align: right;\n",
       "    }\n",
       "</style>\n",
       "<table border=\"1\" class=\"dataframe\">\n",
       "  <thead>\n",
       "    <tr style=\"text-align: right;\">\n",
       "      <th></th>\n",
       "      <th>mois</th>\n",
       "      <th>jour</th>\n",
       "      <th>hrmn</th>\n",
       "      <th>lum</th>\n",
       "      <th>agg</th>\n",
       "      <th>int</th>\n",
       "      <th>atm</th>\n",
       "      <th>dep</th>\n",
       "      <th>catr</th>\n",
       "      <th>circ</th>\n",
       "      <th>nbv</th>\n",
       "      <th>surf</th>\n",
       "      <th>grav</th>\n",
       "    </tr>\n",
       "  </thead>\n",
       "  <tbody>\n",
       "    <tr>\n",
       "      <th>count</th>\n",
       "      <td>839985.000000</td>\n",
       "      <td>839985.000000</td>\n",
       "      <td>839985.000000</td>\n",
       "      <td>839985.000000</td>\n",
       "      <td>839985.000000</td>\n",
       "      <td>839985.000000</td>\n",
       "      <td>839985.000000</td>\n",
       "      <td>839985.000000</td>\n",
       "      <td>839985.000000</td>\n",
       "      <td>839985.000000</td>\n",
       "      <td>839985.000000</td>\n",
       "      <td>839985.000000</td>\n",
       "      <td>839985.000000</td>\n",
       "    </tr>\n",
       "    <tr>\n",
       "      <th>mean</th>\n",
       "      <td>6.679437</td>\n",
       "      <td>15.594687</td>\n",
       "      <td>13.559365</td>\n",
       "      <td>1.912588</td>\n",
       "      <td>1.685924</td>\n",
       "      <td>1.694192</td>\n",
       "      <td>1.547080</td>\n",
       "      <td>56.416155</td>\n",
       "      <td>3.418254</td>\n",
       "      <td>1.961471</td>\n",
       "      <td>2.169398</td>\n",
       "      <td>1.288842</td>\n",
       "      <td>0.438448</td>\n",
       "    </tr>\n",
       "    <tr>\n",
       "      <th>std</th>\n",
       "      <td>3.389489</td>\n",
       "      <td>8.750201</td>\n",
       "      <td>5.411096</td>\n",
       "      <td>1.517900</td>\n",
       "      <td>0.464147</td>\n",
       "      <td>1.510692</td>\n",
       "      <td>1.587622</td>\n",
       "      <td>29.105356</td>\n",
       "      <td>1.207931</td>\n",
       "      <td>0.571444</td>\n",
       "      <td>0.788149</td>\n",
       "      <td>0.927817</td>\n",
       "      <td>0.496197</td>\n",
       "    </tr>\n",
       "    <tr>\n",
       "      <th>min</th>\n",
       "      <td>1.000000</td>\n",
       "      <td>1.000000</td>\n",
       "      <td>0.000000</td>\n",
       "      <td>1.000000</td>\n",
       "      <td>1.000000</td>\n",
       "      <td>1.000000</td>\n",
       "      <td>1.000000</td>\n",
       "      <td>1.000000</td>\n",
       "      <td>1.000000</td>\n",
       "      <td>1.000000</td>\n",
       "      <td>1.000000</td>\n",
       "      <td>1.000000</td>\n",
       "      <td>0.000000</td>\n",
       "    </tr>\n",
       "    <tr>\n",
       "      <th>25%</th>\n",
       "      <td>4.000000</td>\n",
       "      <td>8.000000</td>\n",
       "      <td>10.000000</td>\n",
       "      <td>1.000000</td>\n",
       "      <td>1.000000</td>\n",
       "      <td>1.000000</td>\n",
       "      <td>1.000000</td>\n",
       "      <td>31.000000</td>\n",
       "      <td>3.000000</td>\n",
       "      <td>2.000000</td>\n",
       "      <td>2.000000</td>\n",
       "      <td>1.000000</td>\n",
       "      <td>0.000000</td>\n",
       "    </tr>\n",
       "    <tr>\n",
       "      <th>50%</th>\n",
       "      <td>7.000000</td>\n",
       "      <td>15.000000</td>\n",
       "      <td>14.000000</td>\n",
       "      <td>1.000000</td>\n",
       "      <td>2.000000</td>\n",
       "      <td>1.000000</td>\n",
       "      <td>1.000000</td>\n",
       "      <td>63.000000</td>\n",
       "      <td>4.000000</td>\n",
       "      <td>2.000000</td>\n",
       "      <td>2.000000</td>\n",
       "      <td>1.000000</td>\n",
       "      <td>0.000000</td>\n",
       "    </tr>\n",
       "    <tr>\n",
       "      <th>75%</th>\n",
       "      <td>10.000000</td>\n",
       "      <td>23.000000</td>\n",
       "      <td>18.000000</td>\n",
       "      <td>3.000000</td>\n",
       "      <td>2.000000</td>\n",
       "      <td>2.000000</td>\n",
       "      <td>1.000000</td>\n",
       "      <td>78.000000</td>\n",
       "      <td>4.000000</td>\n",
       "      <td>2.000000</td>\n",
       "      <td>2.000000</td>\n",
       "      <td>1.000000</td>\n",
       "      <td>1.000000</td>\n",
       "    </tr>\n",
       "    <tr>\n",
       "      <th>max</th>\n",
       "      <td>12.000000</td>\n",
       "      <td>31.000000</td>\n",
       "      <td>23.000000</td>\n",
       "      <td>5.000000</td>\n",
       "      <td>2.000000</td>\n",
       "      <td>9.000000</td>\n",
       "      <td>9.000000</td>\n",
       "      <td>97.000000</td>\n",
       "      <td>9.000000</td>\n",
       "      <td>4.000000</td>\n",
       "      <td>5.000000</td>\n",
       "      <td>9.000000</td>\n",
       "      <td>1.000000</td>\n",
       "    </tr>\n",
       "  </tbody>\n",
       "</table>\n",
       "</div>"
      ],
      "text/plain": [
       "                mois           jour           hrmn            lum  \\\n",
       "count  839985.000000  839985.000000  839985.000000  839985.000000   \n",
       "mean        6.679437      15.594687      13.559365       1.912588   \n",
       "std         3.389489       8.750201       5.411096       1.517900   \n",
       "min         1.000000       1.000000       0.000000       1.000000   \n",
       "25%         4.000000       8.000000      10.000000       1.000000   \n",
       "50%         7.000000      15.000000      14.000000       1.000000   \n",
       "75%        10.000000      23.000000      18.000000       3.000000   \n",
       "max        12.000000      31.000000      23.000000       5.000000   \n",
       "\n",
       "                 agg            int            atm            dep  \\\n",
       "count  839985.000000  839985.000000  839985.000000  839985.000000   \n",
       "mean        1.685924       1.694192       1.547080      56.416155   \n",
       "std         0.464147       1.510692       1.587622      29.105356   \n",
       "min         1.000000       1.000000       1.000000       1.000000   \n",
       "25%         1.000000       1.000000       1.000000      31.000000   \n",
       "50%         2.000000       1.000000       1.000000      63.000000   \n",
       "75%         2.000000       2.000000       1.000000      78.000000   \n",
       "max         2.000000       9.000000       9.000000      97.000000   \n",
       "\n",
       "                catr           circ            nbv           surf  \\\n",
       "count  839985.000000  839985.000000  839985.000000  839985.000000   \n",
       "mean        3.418254       1.961471       2.169398       1.288842   \n",
       "std         1.207931       0.571444       0.788149       0.927817   \n",
       "min         1.000000       1.000000       1.000000       1.000000   \n",
       "25%         3.000000       2.000000       2.000000       1.000000   \n",
       "50%         4.000000       2.000000       2.000000       1.000000   \n",
       "75%         4.000000       2.000000       2.000000       1.000000   \n",
       "max         9.000000       4.000000       5.000000       9.000000   \n",
       "\n",
       "                grav  \n",
       "count  839985.000000  \n",
       "mean        0.438448  \n",
       "std         0.496197  \n",
       "min         0.000000  \n",
       "25%         0.000000  \n",
       "50%         0.000000  \n",
       "75%         1.000000  \n",
       "max         1.000000  "
      ]
     },
     "execution_count": 265,
     "metadata": {},
     "output_type": "execute_result"
    }
   ],
   "source": [
    "accidents.describe()"
   ]
  },
  {
   "cell_type": "code",
   "execution_count": 266,
   "metadata": {},
   "outputs": [
    {
     "data": {
      "text/html": [
       "<div>\n",
       "<style scoped>\n",
       "    .dataframe tbody tr th:only-of-type {\n",
       "        vertical-align: middle;\n",
       "    }\n",
       "\n",
       "    .dataframe tbody tr th {\n",
       "        vertical-align: top;\n",
       "    }\n",
       "\n",
       "    .dataframe thead th {\n",
       "        text-align: right;\n",
       "    }\n",
       "</style>\n",
       "<table border=\"1\" class=\"dataframe\">\n",
       "  <thead>\n",
       "    <tr style=\"text-align: right;\">\n",
       "      <th></th>\n",
       "      <th>mois</th>\n",
       "      <th>jour</th>\n",
       "      <th>hrmn</th>\n",
       "      <th>lum</th>\n",
       "      <th>agg</th>\n",
       "      <th>int</th>\n",
       "      <th>atm</th>\n",
       "      <th>dep</th>\n",
       "      <th>catr</th>\n",
       "      <th>circ</th>\n",
       "      <th>nbv</th>\n",
       "      <th>surf</th>\n",
       "      <th>grav</th>\n",
       "    </tr>\n",
       "  </thead>\n",
       "  <tbody>\n",
       "    <tr>\n",
       "      <th>0</th>\n",
       "      <td>2</td>\n",
       "      <td>1</td>\n",
       "      <td>14</td>\n",
       "      <td>1</td>\n",
       "      <td>2</td>\n",
       "      <td>1</td>\n",
       "      <td>8</td>\n",
       "      <td>59</td>\n",
       "      <td>3</td>\n",
       "      <td>2</td>\n",
       "      <td>2</td>\n",
       "      <td>1</td>\n",
       "      <td>1</td>\n",
       "    </tr>\n",
       "    <tr>\n",
       "      <th>1</th>\n",
       "      <td>3</td>\n",
       "      <td>16</td>\n",
       "      <td>18</td>\n",
       "      <td>1</td>\n",
       "      <td>2</td>\n",
       "      <td>6</td>\n",
       "      <td>1</td>\n",
       "      <td>59</td>\n",
       "      <td>3</td>\n",
       "      <td>1</td>\n",
       "      <td>2</td>\n",
       "      <td>1</td>\n",
       "      <td>1</td>\n",
       "    </tr>\n",
       "    <tr>\n",
       "      <th>2</th>\n",
       "      <td>7</td>\n",
       "      <td>13</td>\n",
       "      <td>19</td>\n",
       "      <td>1</td>\n",
       "      <td>1</td>\n",
       "      <td>1</td>\n",
       "      <td>1</td>\n",
       "      <td>59</td>\n",
       "      <td>3</td>\n",
       "      <td>2</td>\n",
       "      <td>2</td>\n",
       "      <td>2</td>\n",
       "      <td>1</td>\n",
       "    </tr>\n",
       "    <tr>\n",
       "      <th>3</th>\n",
       "      <td>8</td>\n",
       "      <td>15</td>\n",
       "      <td>19</td>\n",
       "      <td>2</td>\n",
       "      <td>2</td>\n",
       "      <td>1</td>\n",
       "      <td>7</td>\n",
       "      <td>59</td>\n",
       "      <td>4</td>\n",
       "      <td>2</td>\n",
       "      <td>2</td>\n",
       "      <td>1</td>\n",
       "      <td>1</td>\n",
       "    </tr>\n",
       "    <tr>\n",
       "      <th>4</th>\n",
       "      <td>12</td>\n",
       "      <td>23</td>\n",
       "      <td>11</td>\n",
       "      <td>1</td>\n",
       "      <td>2</td>\n",
       "      <td>3</td>\n",
       "      <td>1</td>\n",
       "      <td>59</td>\n",
       "      <td>4</td>\n",
       "      <td>2</td>\n",
       "      <td>2</td>\n",
       "      <td>1</td>\n",
       "      <td>1</td>\n",
       "    </tr>\n",
       "    <tr>\n",
       "      <th>5</th>\n",
       "      <td>12</td>\n",
       "      <td>23</td>\n",
       "      <td>11</td>\n",
       "      <td>1</td>\n",
       "      <td>2</td>\n",
       "      <td>1</td>\n",
       "      <td>7</td>\n",
       "      <td>59</td>\n",
       "      <td>3</td>\n",
       "      <td>2</td>\n",
       "      <td>2</td>\n",
       "      <td>1</td>\n",
       "      <td>1</td>\n",
       "    </tr>\n",
       "    <tr>\n",
       "      <th>6</th>\n",
       "      <td>5</td>\n",
       "      <td>1</td>\n",
       "      <td>11</td>\n",
       "      <td>1</td>\n",
       "      <td>2</td>\n",
       "      <td>1</td>\n",
       "      <td>7</td>\n",
       "      <td>59</td>\n",
       "      <td>3</td>\n",
       "      <td>2</td>\n",
       "      <td>2</td>\n",
       "      <td>1</td>\n",
       "      <td>0</td>\n",
       "    </tr>\n",
       "    <tr>\n",
       "      <th>7</th>\n",
       "      <td>5</td>\n",
       "      <td>14</td>\n",
       "      <td>19</td>\n",
       "      <td>2</td>\n",
       "      <td>1</td>\n",
       "      <td>1</td>\n",
       "      <td>1</td>\n",
       "      <td>59</td>\n",
       "      <td>3</td>\n",
       "      <td>2</td>\n",
       "      <td>2</td>\n",
       "      <td>1</td>\n",
       "      <td>1</td>\n",
       "    </tr>\n",
       "    <tr>\n",
       "      <th>8</th>\n",
       "      <td>9</td>\n",
       "      <td>23</td>\n",
       "      <td>19</td>\n",
       "      <td>1</td>\n",
       "      <td>2</td>\n",
       "      <td>1</td>\n",
       "      <td>1</td>\n",
       "      <td>59</td>\n",
       "      <td>4</td>\n",
       "      <td>2</td>\n",
       "      <td>2</td>\n",
       "      <td>1</td>\n",
       "      <td>1</td>\n",
       "    </tr>\n",
       "    <tr>\n",
       "      <th>9</th>\n",
       "      <td>12</td>\n",
       "      <td>30</td>\n",
       "      <td>10</td>\n",
       "      <td>1</td>\n",
       "      <td>1</td>\n",
       "      <td>1</td>\n",
       "      <td>9</td>\n",
       "      <td>59</td>\n",
       "      <td>4</td>\n",
       "      <td>2</td>\n",
       "      <td>2</td>\n",
       "      <td>7</td>\n",
       "      <td>1</td>\n",
       "    </tr>\n",
       "    <tr>\n",
       "      <th>10</th>\n",
       "      <td>1</td>\n",
       "      <td>25</td>\n",
       "      <td>8</td>\n",
       "      <td>2</td>\n",
       "      <td>2</td>\n",
       "      <td>1</td>\n",
       "      <td>8</td>\n",
       "      <td>59</td>\n",
       "      <td>3</td>\n",
       "      <td>2</td>\n",
       "      <td>2</td>\n",
       "      <td>2</td>\n",
       "      <td>1</td>\n",
       "    </tr>\n",
       "    <tr>\n",
       "      <th>11</th>\n",
       "      <td>1</td>\n",
       "      <td>28</td>\n",
       "      <td>18</td>\n",
       "      <td>3</td>\n",
       "      <td>1</td>\n",
       "      <td>1</td>\n",
       "      <td>1</td>\n",
       "      <td>59</td>\n",
       "      <td>3</td>\n",
       "      <td>2</td>\n",
       "      <td>2</td>\n",
       "      <td>1</td>\n",
       "      <td>1</td>\n",
       "    </tr>\n",
       "    <tr>\n",
       "      <th>12</th>\n",
       "      <td>2</td>\n",
       "      <td>5</td>\n",
       "      <td>16</td>\n",
       "      <td>1</td>\n",
       "      <td>2</td>\n",
       "      <td>1</td>\n",
       "      <td>1</td>\n",
       "      <td>59</td>\n",
       "      <td>3</td>\n",
       "      <td>2</td>\n",
       "      <td>2</td>\n",
       "      <td>1</td>\n",
       "      <td>1</td>\n",
       "    </tr>\n",
       "    <tr>\n",
       "      <th>13</th>\n",
       "      <td>4</td>\n",
       "      <td>17</td>\n",
       "      <td>12</td>\n",
       "      <td>1</td>\n",
       "      <td>2</td>\n",
       "      <td>1</td>\n",
       "      <td>1</td>\n",
       "      <td>59</td>\n",
       "      <td>3</td>\n",
       "      <td>2</td>\n",
       "      <td>2</td>\n",
       "      <td>1</td>\n",
       "      <td>1</td>\n",
       "    </tr>\n",
       "    <tr>\n",
       "      <th>14</th>\n",
       "      <td>8</td>\n",
       "      <td>17</td>\n",
       "      <td>19</td>\n",
       "      <td>1</td>\n",
       "      <td>1</td>\n",
       "      <td>6</td>\n",
       "      <td>7</td>\n",
       "      <td>59</td>\n",
       "      <td>3</td>\n",
       "      <td>1</td>\n",
       "      <td>1</td>\n",
       "      <td>1</td>\n",
       "      <td>1</td>\n",
       "    </tr>\n",
       "  </tbody>\n",
       "</table>\n",
       "</div>"
      ],
      "text/plain": [
       "    mois  jour  hrmn  lum  agg  int  atm  dep  catr  circ  nbv  surf  grav\n",
       "0      2     1    14    1    2    1    8   59     3     2    2     1     1\n",
       "1      3    16    18    1    2    6    1   59     3     1    2     1     1\n",
       "2      7    13    19    1    1    1    1   59     3     2    2     2     1\n",
       "3      8    15    19    2    2    1    7   59     4     2    2     1     1\n",
       "4     12    23    11    1    2    3    1   59     4     2    2     1     1\n",
       "5     12    23    11    1    2    1    7   59     3     2    2     1     1\n",
       "6      5     1    11    1    2    1    7   59     3     2    2     1     0\n",
       "7      5    14    19    2    1    1    1   59     3     2    2     1     1\n",
       "8      9    23    19    1    2    1    1   59     4     2    2     1     1\n",
       "9     12    30    10    1    1    1    9   59     4     2    2     7     1\n",
       "10     1    25     8    2    2    1    8   59     3     2    2     2     1\n",
       "11     1    28    18    3    1    1    1   59     3     2    2     1     1\n",
       "12     2     5    16    1    2    1    1   59     3     2    2     1     1\n",
       "13     4    17    12    1    2    1    1   59     3     2    2     1     1\n",
       "14     8    17    19    1    1    6    7   59     3     1    1     1     1"
      ]
     },
     "execution_count": 266,
     "metadata": {},
     "output_type": "execute_result"
    }
   ],
   "source": [
    "accidents.head(15)"
   ]
  },
  {
   "cell_type": "markdown",
   "metadata": {},
   "source": [
    "# Split Train/Test/Validation\n",
    "\n",
    "It is a good idea to split the dataset into training set and testing set. We will perform this action now.\n",
    "The ratio between training and testing set would 80:20.\n",
    "Training set is further split into the actual train set and a validation set, with a ratio of 80:20."
   ]
  },
  {
   "cell_type": "code",
   "execution_count": 267,
   "metadata": {
    "scrolled": true
   },
   "outputs": [
    {
     "data": {
      "text/plain": [
       "array([[-1.38057397, -1.66792681,  0.08143185, -0.60121757,  0.67667358,\n",
       "        -0.45951952,  4.06452146,  0.08877564, -0.34625655,  0.06742446,\n",
       "        -0.21493197, -0.31131385],\n",
       "       [-1.08554405,  0.04632047,  0.82065412, -0.60121757,  0.67667358,\n",
       "         2.85022346, -0.34459104,  0.08877564, -0.34625655, -1.68253017,\n",
       "        -0.21493197, -0.31131385],\n",
       "       [ 0.09457564, -0.29652899,  1.00545969, -0.60121757, -1.47781741,\n",
       "        -0.45951952, -0.34459104,  0.08877564, -0.34625655,  0.06742446,\n",
       "        -0.21493197,  0.76648572],\n",
       "       [ 0.38960556, -0.06796268,  1.00545969,  0.05758766,  0.67667358,\n",
       "        -0.45951952,  3.43464825,  0.08877564,  0.48160555,  0.06742446,\n",
       "        -0.21493197, -0.31131385],\n",
       "       [ 1.56972524,  0.84630253, -0.47298486, -0.60121757,  0.67667358,\n",
       "         0.86437767, -0.34459104,  0.08877564,  0.48160555,  0.06742446,\n",
       "        -0.21493197, -0.31131385]])"
      ]
     },
     "execution_count": 267,
     "metadata": {},
     "output_type": "execute_result"
    }
   ],
   "source": [
    "from sklearn import preprocessing\n",
    "\n",
    "Feature = accidents[['mois','jour','hrmn','lum','agg','int','atm','dep','catr','circ','nbv','surf']]\n",
    "Y = accidents[['grav']]\n",
    "X = preprocessing.StandardScaler().fit(Feature).transform(Feature) #Normalize your data\n",
    "X[0:5]"
   ]
  },
  {
   "cell_type": "code",
   "execution_count": 268,
   "metadata": {},
   "outputs": [],
   "source": [
    "from sklearn.model_selection import train_test_split\n",
    "\n",
    "X_training, X_test, y_training, y_test = train_test_split(accidents.drop(\"grav\", axis=1), accidents[\"grav\"], test_size=0.2, random_state=42)\n",
    "X_train, X_Val, y_train, y_Val = train_test_split(X_training, y_training, test_size=0.2, random_state=42)"
   ]
  },
  {
   "cell_type": "markdown",
   "metadata": {},
   "source": [
    "# Model"
   ]
  },
  {
   "cell_type": "markdown",
   "metadata": {},
   "source": [
    "We import metrics to measure the relevance of each RF Classifier"
   ]
  },
  {
   "cell_type": "code",
   "execution_count": 269,
   "metadata": {},
   "outputs": [],
   "source": [
    "import time\n",
    "from sklearn.metrics import accuracy_score"
   ]
  },
  {
   "cell_type": "markdown",
   "metadata": {},
   "source": [
    "## Random Forest"
   ]
  },
  {
   "cell_type": "code",
   "execution_count": 270,
   "metadata": {},
   "outputs": [],
   "source": [
    "from sklearn.ensemble import RandomForestClassifier"
   ]
  },
  {
   "cell_type": "code",
   "execution_count": 271,
   "metadata": {},
   "outputs": [
    {
     "name": "stdout",
     "output_type": "stream",
     "text": [
      "Time taken : 77.29745888710022\n"
     ]
    }
   ],
   "source": [
    "t0=time.time()\n",
    "model_rf = RandomForestClassifier(n_estimators=100,random_state=0, n_jobs=-1)\n",
    "model_rf.fit(X_train,y_train)\n",
    "print('Time taken :' , time.time()-t0)"
   ]
  },
  {
   "cell_type": "markdown",
   "metadata": {},
   "source": [
    "# Validation"
   ]
  },
  {
   "cell_type": "code",
   "execution_count": 272,
   "metadata": {},
   "outputs": [
    {
     "name": "stdout",
     "output_type": "stream",
     "text": [
      "Accuracy : 0.6909254602003005\n"
     ]
    }
   ],
   "source": [
    "y_pred = model_rf.predict(X_Val)\n",
    "score_rf = accuracy_score(y_Val,y_pred)\n",
    "print('Accuracy :',score_rf)"
   ]
  },
  {
   "cell_type": "markdown",
   "metadata": {},
   "source": [
    "Our goal will now be to improve the accuracy and running time of this model thanks to feature selection and hyperparameter tuning."
   ]
  },
  {
   "cell_type": "markdown",
   "metadata": {},
   "source": [
    "## Feature selection"
   ]
  },
  {
   "cell_type": "markdown",
   "metadata": {},
   "source": [
    "We can measure the importance of each feature in the contribution to the prediction"
   ]
  },
  {
   "cell_type": "code",
   "execution_count": 273,
   "metadata": {},
   "outputs": [],
   "source": [
    "importances = pd.DataFrame({'feature':X_train.columns,'importance':np.round(model_rf.feature_importances_,3)})\n",
    "importances = importances.sort_values('importance',ascending=False).set_index('feature')"
   ]
  },
  {
   "cell_type": "code",
   "execution_count": 274,
   "metadata": {},
   "outputs": [
    {
     "data": {
      "text/html": [
       "<div>\n",
       "<style scoped>\n",
       "    .dataframe tbody tr th:only-of-type {\n",
       "        vertical-align: middle;\n",
       "    }\n",
       "\n",
       "    .dataframe tbody tr th {\n",
       "        vertical-align: top;\n",
       "    }\n",
       "\n",
       "    .dataframe thead th {\n",
       "        text-align: right;\n",
       "    }\n",
       "</style>\n",
       "<table border=\"1\" class=\"dataframe\">\n",
       "  <thead>\n",
       "    <tr style=\"text-align: right;\">\n",
       "      <th></th>\n",
       "      <th>importance</th>\n",
       "    </tr>\n",
       "    <tr>\n",
       "      <th>feature</th>\n",
       "      <th></th>\n",
       "    </tr>\n",
       "  </thead>\n",
       "  <tbody>\n",
       "    <tr>\n",
       "      <th>dep</th>\n",
       "      <td>0.233</td>\n",
       "    </tr>\n",
       "    <tr>\n",
       "      <th>jour</th>\n",
       "      <td>0.226</td>\n",
       "    </tr>\n",
       "    <tr>\n",
       "      <th>hrmn</th>\n",
       "      <td>0.140</td>\n",
       "    </tr>\n",
       "    <tr>\n",
       "      <th>mois</th>\n",
       "      <td>0.124</td>\n",
       "    </tr>\n",
       "    <tr>\n",
       "      <th>catr</th>\n",
       "      <td>0.070</td>\n",
       "    </tr>\n",
       "    <tr>\n",
       "      <th>agg</th>\n",
       "      <td>0.049</td>\n",
       "    </tr>\n",
       "    <tr>\n",
       "      <th>circ</th>\n",
       "      <td>0.034</td>\n",
       "    </tr>\n",
       "    <tr>\n",
       "      <th>nbv</th>\n",
       "      <td>0.032</td>\n",
       "    </tr>\n",
       "    <tr>\n",
       "      <th>int</th>\n",
       "      <td>0.031</td>\n",
       "    </tr>\n",
       "    <tr>\n",
       "      <th>atm</th>\n",
       "      <td>0.023</td>\n",
       "    </tr>\n",
       "    <tr>\n",
       "      <th>lum</th>\n",
       "      <td>0.021</td>\n",
       "    </tr>\n",
       "    <tr>\n",
       "      <th>surf</th>\n",
       "      <td>0.016</td>\n",
       "    </tr>\n",
       "  </tbody>\n",
       "</table>\n",
       "</div>"
      ],
      "text/plain": [
       "         importance\n",
       "feature            \n",
       "dep           0.233\n",
       "jour          0.226\n",
       "hrmn          0.140\n",
       "mois          0.124\n",
       "catr          0.070\n",
       "agg           0.049\n",
       "circ          0.034\n",
       "nbv           0.032\n",
       "int           0.031\n",
       "atm           0.023\n",
       "lum           0.021\n",
       "surf          0.016"
      ]
     },
     "execution_count": 274,
     "metadata": {},
     "output_type": "execute_result"
    }
   ],
   "source": [
    "importances"
   ]
  },
  {
   "cell_type": "markdown",
   "metadata": {},
   "source": [
    "Then we can conclude that we can delete the lowest importance features: \"surf\", \"lum\", \"atm\", \"int\", \"nbv\", \"circ\""
   ]
  },
  {
   "cell_type": "code",
   "execution_count": 275,
   "metadata": {},
   "outputs": [],
   "source": [
    "X_train = X_train.drop([\"surf\", \"lum\", \"atm\", \"int\", \"nbv\", \"circ\"], axis=1)\n",
    "X_Val = X_Val.drop([\"surf\", \"lum\", \"atm\", \"int\", \"nbv\", \"circ\"], axis=1)\n",
    "X_test = X_test.drop([\"surf\", \"lum\", \"atm\", \"int\", \"nbv\", \"circ\"], axis=1)"
   ]
  },
  {
   "cell_type": "markdown",
   "metadata": {},
   "source": [
    "We train the Random Forest algorithm with the new dataset."
   ]
  },
  {
   "cell_type": "code",
   "execution_count": 276,
   "metadata": {},
   "outputs": [
    {
     "name": "stdout",
     "output_type": "stream",
     "text": [
      "Accuracy : 0.6639086891173975\n",
      "Time taken : 67.49917602539062\n"
     ]
    }
   ],
   "source": [
    "t0=time.time()\n",
    "model_rf = RandomForestClassifier(n_estimators=100,random_state=0, n_jobs=-1)\n",
    "model_rf.fit(X_train,y_train)\n",
    "y_pred = model_rf.predict(X_Val)\n",
    "score = accuracy_score(y_Val,y_pred)\n",
    "print('Accuracy :',score)\n",
    "print('Time taken :' , time.time()-t0)"
   ]
  },
  {
   "cell_type": "markdown",
   "metadata": {},
   "source": [
    "We improved the running time but decreased slighlty the accuracy"
   ]
  },
  {
   "cell_type": "markdown",
   "metadata": {},
   "source": [
    "## Hyperparameter tuning"
   ]
  },
  {
   "cell_type": "code",
   "execution_count": 277,
   "metadata": {},
   "outputs": [
    {
     "name": "stdout",
     "output_type": "stream",
     "text": [
      "Accuracy : 0.6946606348308755\n",
      "Time taken : 29.019226551055908\n"
     ]
    }
   ],
   "source": [
    "t0=time.time()\n",
    "model_rf = RandomForestClassifier(n_estimators=100, max_depth= 5, max_features= 3, random_state=0, n_jobs=-1)\n",
    "model_rf.fit(X_train,y_train)\n",
    "y_pred = model_rf.predict(X_Val)\n",
    "score = accuracy_score(y_Val,y_pred)\n",
    "print('Accuracy :',score)\n",
    "print('Time taken :' , time.time()-t0)"
   ]
  },
  {
   "cell_type": "code",
   "execution_count": 279,
   "metadata": {},
   "outputs": [
    {
     "name": "stdout",
     "output_type": "stream",
     "text": [
      "Accuracy : 0.7116177324067322\n",
      "Time taken : 6.666396856307983\n"
     ]
    }
   ],
   "source": [
    "t0=time.time()\n",
    "model_rf = RandomForestClassifier(n_estimators=7, max_depth= 15, max_features= 6, random_state=0, n_jobs=-1)\n",
    "model_rf.fit(X_train,y_train)\n",
    "y_pred = model_rf.predict(X_Val)\n",
    "score = accuracy_score(y_Val,y_pred)\n",
    "print('Accuracy :',score)\n",
    "print('Time taken :' , time.time()-t0)"
   ]
  },
  {
   "cell_type": "markdown",
   "metadata": {},
   "source": [
    "With our final optimization, we reach a really better running time while increasing a bit the accuracy, from the original model"
   ]
  },
  {
   "cell_type": "code",
   "execution_count": 301,
   "metadata": {},
   "outputs": [
    {
     "name": "stdout",
     "output_type": "stream",
     "text": [
      "Accuracy : 0.7112805585814033\n",
      "Time taken : 6.695050001144409\n"
     ]
    }
   ],
   "source": [
    "t0=time.time()\n",
    "model_rf = RandomForestClassifier(n_estimators=7, max_depth= 15, max_features= 6, random_state=0, n_jobs=-1)\n",
    "model_rf.fit(X_train,y_train)\n",
    "y_pred = model_rf.predict(X_test)\n",
    "score = accuracy_score(y_test,y_pred)\n",
    "print('Accuracy :',score)\n",
    "print('Time taken :' , time.time()-t0)\n"
   ]
  },
  {
   "cell_type": "markdown",
   "metadata": {},
   "source": [
    "The Accuracy means that the model provides true predictions 71% of the times.\n",
    "\n",
    "Having almost the same results than with the validation set is reassuring about the fact that our model is not overfitting.\n",
    "\n",
    "It is an interesting measure to evaluate our model but in the context, other measures might be useful as well."
   ]
  },
  {
   "cell_type": "markdown",
   "metadata": {},
   "source": [
    "The recall here means that on all the serious accidents that happened, 61% have been predicted correctly\n",
    "\n",
    "That is the measure that really interests us the most because we need to provide the needed services up to the severity of the accidents."
   ]
  },
  {
   "cell_type": "code",
   "execution_count": 87,
   "metadata": {},
   "outputs": [],
   "source": [
    "from sklearn.metrics import roc_curve, roc_auc_score"
   ]
  },
  {
   "cell_type": "markdown",
   "metadata": {},
   "source": [
    "These scores can be explained partially because of the fact that there is more examples of \"light injuries\" than \"serious accidents\" :"
   ]
  },
  {
   "cell_type": "code",
   "execution_count": 91,
   "metadata": {},
   "outputs": [
    {
     "data": {
      "text/plain": [
       "<matplotlib.axes._subplots.AxesSubplot at 0x23d9b1628e0>"
      ]
     },
     "execution_count": 91,
     "metadata": {},
     "output_type": "execute_result"
    },
    {
     "data": {
      "image/png": "[encoded data removed]",
      "text/plain": [
       "<Figure size 432x288 with 1 Axes>"
      ]
     },
     "metadata": {
      "needs_background": "light"
     },
     "output_type": "display_data"
    }
   ],
   "source": [
    "y_train.hist()"
   ]
  },
  {
   "cell_type": "markdown",
   "metadata": {},
   "source": [
    "## ROC Curve"
   ]
  },
  {
   "cell_type": "code",
   "execution_count": 92,
   "metadata": {},
   "outputs": [],
   "source": [
    "y_scores = model_rf.predict_proba(X_test)"
   ]
  },
  {
   "cell_type": "code",
   "execution_count": 93,
   "metadata": {},
   "outputs": [],
   "source": [
    "y_scores = y_scores[:,1]"
   ]
  },
  {
   "cell_type": "code",
   "execution_count": 94,
   "metadata": {},
   "outputs": [],
   "source": [
    "false_positive_rate, true_positive_rate, thresholds = roc_curve(y_test, y_scores)"
   ]
  },
  {
   "cell_type": "code",
   "execution_count": 95,
   "metadata": {},
   "outputs": [
    {
     "data": {
      "image/png": "[encoded data removed]",
      "text/plain": [
       "<Figure size 1008x504 with 1 Axes>"
      ]
     },
     "metadata": {
      "needs_background": "light"
     },
     "output_type": "display_data"
    }
   ],
   "source": [
    "def plot_roc_curve(false_positive_rate, true_positive_rate, label=None):\n",
    "    plt.plot(false_positive_rate, true_positive_rate, linewidth=2, label=label)\n",
    "    plt.plot([0, 1], [0, 1], 'r', linewidth=4)\n",
    "    plt.axis([0, 1, 0, 1])\n",
    "    plt.xlabel('False Positive Rate (FPR)', fontsize=16)\n",
    "    plt.ylabel('True Positive Rate (TPR)', fontsize=16)\n",
    "\n",
    "plt.figure(figsize=(14, 7))\n",
    "plot_roc_curve(false_positive_rate, true_positive_rate)\n",
    "plt.show()"
   ]
  },
  {
   "cell_type": "code",
   "execution_count": 96,
   "metadata": {},
   "outputs": [],
   "source": [
    "r_a_score = roc_auc_score(y_test, y_scores)"
   ]
  },
  {
   "cell_type": "code",
   "execution_count": 97,
   "metadata": {},
   "outputs": [
    {
     "data": {
      "text/plain": [
       "0.7685746441820174"
      ]
     },
     "execution_count": 97,
     "metadata": {},
     "output_type": "execute_result"
    }
   ],
   "source": [
    "r_a_score"
   ]
  },
  {
   "cell_type": "code",
   "execution_count": 99,
   "metadata": {
    "scrolled": true
   },
   "outputs": [
    {
     "data": {
      "text/plain": [
       "array([0], dtype=int64)"
      ]
     },
     "execution_count": 99,
     "metadata": {},
     "output_type": "execute_result"
    }
   ],
   "source": [
    "model_rf.predict(np.array([[7, 5, 6, 2, 26, 6]]))"
   ]
  },
  {
   "cell_type": "markdown",
   "metadata": {},
   "source": [
    "## KNN"
   ]
  },
  {
   "cell_type": "code",
   "execution_count": 281,
   "metadata": {},
   "outputs": [
    {
     "name": "stdout",
     "output_type": "stream",
     "text": [
      "Time taken : 41.71495604515076\n"
     ]
    },
    {
     "data": {
      "text/plain": [
       "array([0, 1, 0, 1, 0], dtype=int64)"
      ]
     },
     "execution_count": 281,
     "metadata": {},
     "output_type": "execute_result"
    }
   ],
   "source": [
    "from sklearn.neighbors import KNeighborsClassifier\n",
    "t0=time.time()\n",
    "k = 9 #3 values of k were tried, k= 9,19,29. k=9 had array([1,2,1,1,1]) while k=19 and k=29 had an array of 1's\n",
    "standard_accuracy = np.zeros((k-1))\n",
    "mean_accuracy = np.zeros((k-1))\n",
    "\n",
    "neighbor = KNeighborsClassifier(n_neighbors = k).fit(X_train, y_train.values.ravel())\n",
    "neighbor\n",
    "\n",
    "knn_yhat = neighbor.predict(X_test)\n",
    "print('Time taken :' , time.time()-t0)\n",
    "knn_yhat[0:5]\n"
   ]
  },
  {
   "cell_type": "code",
   "execution_count": 282,
   "metadata": {},
   "outputs": [
    {
     "data": {
      "image/png": "[encoded data removed]",
      "text/plain": [
       "<Figure size 432x288 with 1 Axes>"
      ]
     },
     "metadata": {
      "needs_background": "light"
     },
     "output_type": "display_data"
    },
    {
     "name": "stdout",
     "output_type": "stream",
     "text": [
      "The best accuracy was with 0.0 with k= 1\n"
     ]
    }
   ],
   "source": [
    "k=9\n",
    "plt.plot(range(1,k),mean_accuracy,'g')\n",
    "plt.fill_between(range(1,k),mean_accuracy - 1 * standard_accuracy, mean_accuracy + 1 * standard_accuracy, alpha=0.20)\n",
    "plt.legend(('Accuracy ', '+/- 3xstd'))\n",
    "plt.ylabel('Accuracy ')\n",
    "plt.xlabel('Number of Neighbors (K)')\n",
    "plt.tight_layout()\n",
    "plt.show()\n",
    "print( \"The best accuracy was with\", mean_accuracy.max(), \"with k=\", mean_accuracy.argmax()+1)"
   ]
  },
  {
   "cell_type": "markdown",
   "metadata": {},
   "source": [
    "Lets use Decision Tree to see what type of results we can obtain from this model."
   ]
  },
  {
   "cell_type": "markdown",
   "metadata": {},
   "source": [
    "## Decision Tree"
   ]
  },
  {
   "cell_type": "code",
   "execution_count": 284,
   "metadata": {},
   "outputs": [],
   "source": [
    "from sklearn.tree import DecisionTreeClassifier\n",
    "\n",
    "newTree = DecisionTreeClassifier(criterion=\"entropy\", max_depth = 200)\n",
    "newTree\n",
    "newTree.fit(X_train,y_train)\n",
    "dt_yhat = newTree.predict(X_test)"
   ]
  },
  {
   "cell_type": "code",
   "execution_count": 285,
   "metadata": {},
   "outputs": [
    {
     "name": "stdout",
     "output_type": "stream",
     "text": [
      "[0 1 1 1 1]\n",
      "171669    0\n",
      "580715    0\n",
      "92929     0\n",
      "27334     1\n",
      "413160    1\n",
      "Name: grav, dtype: int64\n"
     ]
    }
   ],
   "source": [
    "print(dt_yhat[0:5]) #print first 5 predictions\n",
    "print(y_test[0:5]) #compare to first 5 from y test."
   ]
  },
  {
   "cell_type": "markdown",
   "metadata": {},
   "source": [
    "Now that we have worked with training the model using both KNN as well as Decision Tree, the final method that we will be using today is Logistic Regression."
   ]
  },
  {
   "cell_type": "markdown",
   "metadata": {},
   "source": [
    "## Logistic Regression"
   ]
  },
  {
   "cell_type": "code",
   "execution_count": 286,
   "metadata": {},
   "outputs": [
    {
     "data": {
      "text/plain": [
       "LogisticRegression(C=8, solver='liblinear')"
      ]
     },
     "execution_count": 286,
     "metadata": {},
     "output_type": "execute_result"
    }
   ],
   "source": [
    "from sklearn.linear_model import LogisticRegression\n",
    "from sklearn.metrics import confusion_matrix\n",
    "LR = LogisticRegression(C=8, solver='liblinear').fit(X_train,y_train.values.ravel())\n",
    "LR"
   ]
  },
  {
   "cell_type": "code",
   "execution_count": 287,
   "metadata": {},
   "outputs": [
    {
     "data": {
      "text/plain": [
       "array([0, 0, 0, ..., 0, 0, 1], dtype=int64)"
      ]
     },
     "execution_count": 287,
     "metadata": {},
     "output_type": "execute_result"
    }
   ],
   "source": [
    "#Lets go ahead and calculate the yhat for the linear regression model\n",
    "\n",
    "lr_yhat = LR.predict(X_test)\n",
    "lr_yhat"
   ]
  },
  {
   "cell_type": "code",
   "execution_count": 288,
   "metadata": {},
   "outputs": [
    {
     "data": {
      "text/plain": [
       "array([[0.67845101, 0.32154899],\n",
       "       [0.62856156, 0.37143844],\n",
       "       [0.67296115, 0.32703885],\n",
       "       ...,\n",
       "       [0.63612771, 0.36387229],\n",
       "       [0.66950156, 0.33049844],\n",
       "       [0.31716202, 0.68283798]])"
      ]
     },
     "execution_count": 288,
     "metadata": {},
     "output_type": "execute_result"
    }
   ],
   "source": [
    "yhat_probability = LR.predict_proba(X_test)\n",
    "yhat_probability"
   ]
  },
  {
   "cell_type": "code",
   "execution_count": 292,
   "metadata": {
    "scrolled": true
   },
   "outputs": [
    {
     "name": "stdout",
     "output_type": "stream",
     "text": [
      "              precision    recall  f1-score   support\n",
      "\n",
      "           0       0.69      0.75      0.72     94315\n",
      "           1       0.64      0.57      0.60     73682\n",
      "\n",
      "    accuracy                           0.67    167997\n",
      "   macro avg       0.66      0.66      0.66    167997\n",
      "weighted avg       0.67      0.67      0.67    167997\n",
      "\n"
     ]
    }
   ],
   "source": [
    "from sklearn.metrics import jaccard_score\n",
    "from sklearn.metrics import f1_score\n",
    "from sklearn.metrics import log_loss\n",
    "\n",
    "#for knn\n",
    "from sklearn.metrics import classification_report\n",
    "cr = classification_report(y_test, knn_yhat)\n",
    "print(cr)"
   ]
  },
  {
   "cell_type": "code",
   "execution_count": 305,
   "metadata": {},
   "outputs": [
    {
     "name": "stdout",
     "output_type": "stream",
     "text": [
      "Logistic Regression\n",
      "               precision    recall  f1-score   support\n",
      "\n",
      "           0       0.65      0.80      0.72     94315\n",
      "           1       0.64      0.46      0.54     73682\n",
      "\n",
      "    accuracy                           0.65    167997\n",
      "   macro avg       0.65      0.63      0.63    167997\n",
      "weighted avg       0.65      0.65      0.64    167997\n",
      "\n"
     ]
    }
   ],
   "source": [
    "#for LR\n",
    "classification_report(y_test, lr_yhat)\n",
    "print('Logistic Regression\\n', classification_report(y_test, lr_yhat))"
   ]
  },
  {
   "cell_type": "code",
   "execution_count": 306,
   "metadata": {},
   "outputs": [
    {
     "name": "stdout",
     "output_type": "stream",
     "text": [
      "Logistic Regression\n",
      "               precision    recall  f1-score   support\n",
      "\n",
      "           0       0.65      0.80      0.72     94315\n",
      "           1       0.64      0.46      0.54     73682\n",
      "\n",
      "    accuracy                           0.65    167997\n",
      "   macro avg       0.65      0.63      0.63    167997\n",
      "weighted avg       0.65      0.65      0.64    167997\n",
      "\n"
     ]
    }
   ],
   "source": [
    "#for LR\n",
    "classification_report(y_test, lr_yhat)\n",
    "print('Logistic Regression\\n', classification_report(y_test, lr_yhat))"
   ]
  },
  {
   "cell_type": "code",
   "execution_count": 307,
   "metadata": {},
   "outputs": [
    {
     "name": "stdout",
     "output_type": "stream",
     "text": [
      "Decision Trees's Accuracy is:  0.6394459424870682\n",
      "Decision Trees\n",
      "               precision    recall  f1-score   support\n",
      "\n",
      "           0       0.67      0.71      0.69     94315\n",
      "           1       0.60      0.54      0.57     73682\n",
      "\n",
      "    accuracy                           0.64    167997\n",
      "   macro avg       0.63      0.63      0.63    167997\n",
      "weighted avg       0.64      0.64      0.64    167997\n",
      "\n"
     ]
    }
   ],
   "source": [
    "#for decision tree\n",
    "from sklearn.metrics import accuracy_score\n",
    "predTree = newTree.predict(X_test)\n",
    "print(\"Decision Trees's Accuracy is: \", accuracy_score(y_test, predTree))\n",
    "print('Decision Trees\\n', classification_report(y_test, predTree))"
   ]
  },
  {
   "cell_type": "code",
   "execution_count": 304,
   "metadata": {
    "scrolled": false
   },
   "outputs": [
    {
     "name": "stdout",
     "output_type": "stream",
     "text": [
      "Random Forest\n",
      "               precision    recall  f1-score   support\n",
      "\n",
      "           0       0.65      0.80      0.72     94315\n",
      "           1       0.64      0.46      0.54     73682\n",
      "\n",
      "    accuracy                           0.65    167997\n",
      "   macro avg       0.65      0.63      0.63    167997\n",
      "weighted avg       0.65      0.65      0.64    167997\n",
      "\n"
     ]
    }
   ],
   "source": [
    "print('Random Forest\\n', classification_report(y_test, lr_yhat))"
   ]
  },
  {
   "cell_type": "markdown",
   "metadata": {},
   "source": [
    "We can conclude, Random forest seems to be doing well overall. With the accuracy score to take into consideration, that the injuries will be only light.\n",
    "Similarly, knowing this information can save some resources that can be more helpful to save other people that need it."
   ]
  },
  {
   "cell_type": "code",
   "execution_count": null,
   "metadata": {},
   "outputs": [],
   "source": []
  }
 ],
 "metadata": {
  "kernelspec": {
   "display_name": "Python 3",
   "language": "python",
   "name": "python3"
  },
  "language_info": {
   "codemirror_mode": {
    "name": "ipython",
    "version": 3
   },
   "file_extension": ".py",
   "mimetype": "text/x-python",
   "name": "python",
   "nbconvert_exporter": "python",
   "pygments_lexer": "ipython3",
   "version": "3.8.3"
  }
 },
 "nbformat": 4,
 "nbformat_minor": 1
}
